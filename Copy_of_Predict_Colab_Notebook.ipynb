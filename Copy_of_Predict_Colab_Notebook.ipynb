{
  "nbformat": 4,
  "nbformat_minor": 0,
  "metadata": {
    "colab": {
      "name": "Copy of Predict_Colab_Notebook.ipynb",
      "provenance": [],
      "include_colab_link": true
    },
    "kernelspec": {
      "name": "python3",
      "display_name": "Python 3"
    }
  },
  "cells": [
    {
      "cell_type": "markdown",
      "metadata": {
        "id": "view-in-github",
        "colab_type": "text"
      },
      "source": [
        "<a href=\"https://colab.research.google.com/github/carynpialat/eskom_gather/blob/master/Copy_of_Predict_Colab_Notebook.ipynb\" target=\"_parent\"><img src=\"https://colab.research.google.com/assets/colab-badge.svg\" alt=\"Open In Colab\"/></a>"
      ]
    },
    {
      "cell_type": "markdown",
      "metadata": {
        "id": "nWgNRkZ3Echf",
        "colab_type": "text"
      },
      "source": [
        "## The machine Learning pipeline will be as follows\n",
        "\n",
        "1. Import data\n",
        "2. Data cleaning and formating\n",
        "3. Exploratory data analysis\n",
        "4. Feature engineering and selection\n",
        "5. Building Models"
      ]
    },
    {
      "cell_type": "markdown",
      "metadata": {
        "id": "GJ9_nDWbE3E2",
        "colab_type": "text"
      },
      "source": [
        "# Import data & libraries\n",
        "1. Importing all the necessary libraries\n",
        "2. Importing all the relavent data \n"
      ]
    },
    {
      "cell_type": "code",
      "metadata": {
        "id": "nVVgMcV3nTg3",
        "colab_type": "code",
        "colab": {}
      },
      "source": [
        "import numpy as np\n",
        "import pandas as pd\n",
        "import matplotlib.pyplot as plt\n",
        "import seaborn as sns\n",
        "import datetime"
      ],
      "execution_count": 0,
      "outputs": []
    },
    {
      "cell_type": "code",
      "metadata": {
        "id": "crrBlJZxoI2S",
        "colab_type": "code",
        "colab": {}
      },
      "source": [
        "data = pd.read_csv('https://raw.githubusercontent.com/carynpialat/regression_predict/master/Train.csv')\n",
        "riders = pd.read_csv('https://raw.githubusercontent.com/carynpialat/regression_predict/master/Riders.csv')\n",
        "test_data = pd.read_csv('https://raw.githubusercontent.com/carynpialat/regression_predict/master/Test.csv')"
      ],
      "execution_count": 0,
      "outputs": []
    },
    {
      "cell_type": "markdown",
      "metadata": {
        "id": "_BYwMfiFrcE3",
        "colab_type": "text"
      },
      "source": [
        "## Evaluate Data\n",
        "1. Checking summary statistics of all the data\n",
        "2. Checking the percentage of missing data\n"
      ]
    },
    {
      "cell_type": "code",
      "metadata": {
        "id": "ZJyz7X2Ere9Z",
        "colab_type": "code",
        "outputId": "0fd6547a-93b3-4702-f2a7-a7e5f7484335",
        "colab": {
          "base_uri": "https://localhost:8080/",
          "height": 411
        }
      },
      "source": [
        "data.head()"
      ],
      "execution_count": 48,
      "outputs": [
        {
          "output_type": "execute_result",
          "data": {
            "text/html": [
              "<div>\n",
              "<style scoped>\n",
              "    .dataframe tbody tr th:only-of-type {\n",
              "        vertical-align: middle;\n",
              "    }\n",
              "\n",
              "    .dataframe tbody tr th {\n",
              "        vertical-align: top;\n",
              "    }\n",
              "\n",
              "    .dataframe thead th {\n",
              "        text-align: right;\n",
              "    }\n",
              "</style>\n",
              "<table border=\"1\" class=\"dataframe\">\n",
              "  <thead>\n",
              "    <tr style=\"text-align: right;\">\n",
              "      <th></th>\n",
              "      <th>Order No</th>\n",
              "      <th>User Id</th>\n",
              "      <th>Vehicle Type</th>\n",
              "      <th>Platform Type</th>\n",
              "      <th>Personal or Business</th>\n",
              "      <th>Placement - Day of Month</th>\n",
              "      <th>Placement - Weekday (Mo = 1)</th>\n",
              "      <th>Placement - Time</th>\n",
              "      <th>Confirmation - Day of Month</th>\n",
              "      <th>Confirmation - Weekday (Mo = 1)</th>\n",
              "      <th>Confirmation - Time</th>\n",
              "      <th>Arrival at Pickup - Day of Month</th>\n",
              "      <th>Arrival at Pickup - Weekday (Mo = 1)</th>\n",
              "      <th>Arrival at Pickup - Time</th>\n",
              "      <th>Pickup - Day of Month</th>\n",
              "      <th>Pickup - Weekday (Mo = 1)</th>\n",
              "      <th>Pickup - Time</th>\n",
              "      <th>Arrival at Destination - Day of Month</th>\n",
              "      <th>Arrival at Destination - Weekday (Mo = 1)</th>\n",
              "      <th>Arrival at Destination - Time</th>\n",
              "      <th>Distance (KM)</th>\n",
              "      <th>Temperature</th>\n",
              "      <th>Precipitation in millimeters</th>\n",
              "      <th>Pickup Lat</th>\n",
              "      <th>Pickup Long</th>\n",
              "      <th>Destination Lat</th>\n",
              "      <th>Destination Long</th>\n",
              "      <th>Rider Id</th>\n",
              "      <th>Time from Pickup to Arrival</th>\n",
              "    </tr>\n",
              "  </thead>\n",
              "  <tbody>\n",
              "    <tr>\n",
              "      <th>0</th>\n",
              "      <td>Order_No_4211</td>\n",
              "      <td>User_Id_633</td>\n",
              "      <td>Bike</td>\n",
              "      <td>3</td>\n",
              "      <td>Business</td>\n",
              "      <td>9</td>\n",
              "      <td>5</td>\n",
              "      <td>9:35:46 AM</td>\n",
              "      <td>9</td>\n",
              "      <td>5</td>\n",
              "      <td>9:40:10 AM</td>\n",
              "      <td>9</td>\n",
              "      <td>5</td>\n",
              "      <td>10:04:47 AM</td>\n",
              "      <td>9</td>\n",
              "      <td>5</td>\n",
              "      <td>10:27:30 AM</td>\n",
              "      <td>9</td>\n",
              "      <td>5</td>\n",
              "      <td>10:39:55 AM</td>\n",
              "      <td>4</td>\n",
              "      <td>20.4</td>\n",
              "      <td>NaN</td>\n",
              "      <td>-1.317755</td>\n",
              "      <td>36.830370</td>\n",
              "      <td>-1.300406</td>\n",
              "      <td>36.829741</td>\n",
              "      <td>Rider_Id_432</td>\n",
              "      <td>745</td>\n",
              "    </tr>\n",
              "    <tr>\n",
              "      <th>1</th>\n",
              "      <td>Order_No_25375</td>\n",
              "      <td>User_Id_2285</td>\n",
              "      <td>Bike</td>\n",
              "      <td>3</td>\n",
              "      <td>Personal</td>\n",
              "      <td>12</td>\n",
              "      <td>5</td>\n",
              "      <td>11:16:16 AM</td>\n",
              "      <td>12</td>\n",
              "      <td>5</td>\n",
              "      <td>11:23:21 AM</td>\n",
              "      <td>12</td>\n",
              "      <td>5</td>\n",
              "      <td>11:40:22 AM</td>\n",
              "      <td>12</td>\n",
              "      <td>5</td>\n",
              "      <td>11:44:09 AM</td>\n",
              "      <td>12</td>\n",
              "      <td>5</td>\n",
              "      <td>12:17:22 PM</td>\n",
              "      <td>16</td>\n",
              "      <td>26.4</td>\n",
              "      <td>NaN</td>\n",
              "      <td>-1.351453</td>\n",
              "      <td>36.899315</td>\n",
              "      <td>-1.295004</td>\n",
              "      <td>36.814358</td>\n",
              "      <td>Rider_Id_856</td>\n",
              "      <td>1993</td>\n",
              "    </tr>\n",
              "    <tr>\n",
              "      <th>2</th>\n",
              "      <td>Order_No_1899</td>\n",
              "      <td>User_Id_265</td>\n",
              "      <td>Bike</td>\n",
              "      <td>3</td>\n",
              "      <td>Business</td>\n",
              "      <td>30</td>\n",
              "      <td>2</td>\n",
              "      <td>12:39:25 PM</td>\n",
              "      <td>30</td>\n",
              "      <td>2</td>\n",
              "      <td>12:42:44 PM</td>\n",
              "      <td>30</td>\n",
              "      <td>2</td>\n",
              "      <td>12:49:34 PM</td>\n",
              "      <td>30</td>\n",
              "      <td>2</td>\n",
              "      <td>12:53:03 PM</td>\n",
              "      <td>30</td>\n",
              "      <td>2</td>\n",
              "      <td>1:00:38 PM</td>\n",
              "      <td>3</td>\n",
              "      <td>NaN</td>\n",
              "      <td>NaN</td>\n",
              "      <td>-1.308284</td>\n",
              "      <td>36.843419</td>\n",
              "      <td>-1.300921</td>\n",
              "      <td>36.828195</td>\n",
              "      <td>Rider_Id_155</td>\n",
              "      <td>455</td>\n",
              "    </tr>\n",
              "    <tr>\n",
              "      <th>3</th>\n",
              "      <td>Order_No_9336</td>\n",
              "      <td>User_Id_1402</td>\n",
              "      <td>Bike</td>\n",
              "      <td>3</td>\n",
              "      <td>Business</td>\n",
              "      <td>15</td>\n",
              "      <td>5</td>\n",
              "      <td>9:25:34 AM</td>\n",
              "      <td>15</td>\n",
              "      <td>5</td>\n",
              "      <td>9:26:05 AM</td>\n",
              "      <td>15</td>\n",
              "      <td>5</td>\n",
              "      <td>9:37:56 AM</td>\n",
              "      <td>15</td>\n",
              "      <td>5</td>\n",
              "      <td>9:43:06 AM</td>\n",
              "      <td>15</td>\n",
              "      <td>5</td>\n",
              "      <td>10:05:27 AM</td>\n",
              "      <td>9</td>\n",
              "      <td>19.2</td>\n",
              "      <td>NaN</td>\n",
              "      <td>-1.281301</td>\n",
              "      <td>36.832396</td>\n",
              "      <td>-1.257147</td>\n",
              "      <td>36.795063</td>\n",
              "      <td>Rider_Id_855</td>\n",
              "      <td>1341</td>\n",
              "    </tr>\n",
              "    <tr>\n",
              "      <th>4</th>\n",
              "      <td>Order_No_27883</td>\n",
              "      <td>User_Id_1737</td>\n",
              "      <td>Bike</td>\n",
              "      <td>1</td>\n",
              "      <td>Personal</td>\n",
              "      <td>13</td>\n",
              "      <td>1</td>\n",
              "      <td>9:55:18 AM</td>\n",
              "      <td>13</td>\n",
              "      <td>1</td>\n",
              "      <td>9:56:18 AM</td>\n",
              "      <td>13</td>\n",
              "      <td>1</td>\n",
              "      <td>10:03:53 AM</td>\n",
              "      <td>13</td>\n",
              "      <td>1</td>\n",
              "      <td>10:05:23 AM</td>\n",
              "      <td>13</td>\n",
              "      <td>1</td>\n",
              "      <td>10:25:37 AM</td>\n",
              "      <td>9</td>\n",
              "      <td>15.4</td>\n",
              "      <td>NaN</td>\n",
              "      <td>-1.266597</td>\n",
              "      <td>36.792118</td>\n",
              "      <td>-1.295041</td>\n",
              "      <td>36.809817</td>\n",
              "      <td>Rider_Id_770</td>\n",
              "      <td>1214</td>\n",
              "    </tr>\n",
              "  </tbody>\n",
              "</table>\n",
              "</div>"
            ],
            "text/plain": [
              "         Order No       User Id  ...      Rider Id  Time from Pickup to Arrival\n",
              "0   Order_No_4211   User_Id_633  ...  Rider_Id_432                          745\n",
              "1  Order_No_25375  User_Id_2285  ...  Rider_Id_856                         1993\n",
              "2   Order_No_1899   User_Id_265  ...  Rider_Id_155                          455\n",
              "3   Order_No_9336  User_Id_1402  ...  Rider_Id_855                         1341\n",
              "4  Order_No_27883  User_Id_1737  ...  Rider_Id_770                         1214\n",
              "\n",
              "[5 rows x 29 columns]"
            ]
          },
          "metadata": {
            "tags": []
          },
          "execution_count": 48
        }
      ]
    },
    {
      "cell_type": "code",
      "metadata": {
        "id": "L9GIEiiZropA",
        "colab_type": "code",
        "outputId": "d3aa840c-c696-49fd-8f4d-a1a8ad94ba19",
        "colab": {
          "base_uri": "https://localhost:8080/",
          "height": 204
        }
      },
      "source": [
        "riders.head()"
      ],
      "execution_count": 49,
      "outputs": [
        {
          "output_type": "execute_result",
          "data": {
            "text/html": [
              "<div>\n",
              "<style scoped>\n",
              "    .dataframe tbody tr th:only-of-type {\n",
              "        vertical-align: middle;\n",
              "    }\n",
              "\n",
              "    .dataframe tbody tr th {\n",
              "        vertical-align: top;\n",
              "    }\n",
              "\n",
              "    .dataframe thead th {\n",
              "        text-align: right;\n",
              "    }\n",
              "</style>\n",
              "<table border=\"1\" class=\"dataframe\">\n",
              "  <thead>\n",
              "    <tr style=\"text-align: right;\">\n",
              "      <th></th>\n",
              "      <th>Rider Id</th>\n",
              "      <th>No_Of_Orders</th>\n",
              "      <th>Age</th>\n",
              "      <th>Average_Rating</th>\n",
              "      <th>No_of_Ratings</th>\n",
              "    </tr>\n",
              "  </thead>\n",
              "  <tbody>\n",
              "    <tr>\n",
              "      <th>0</th>\n",
              "      <td>Rider_Id_396</td>\n",
              "      <td>2946</td>\n",
              "      <td>2298</td>\n",
              "      <td>14.0</td>\n",
              "      <td>1159</td>\n",
              "    </tr>\n",
              "    <tr>\n",
              "      <th>1</th>\n",
              "      <td>Rider_Id_479</td>\n",
              "      <td>360</td>\n",
              "      <td>951</td>\n",
              "      <td>13.5</td>\n",
              "      <td>176</td>\n",
              "    </tr>\n",
              "    <tr>\n",
              "      <th>2</th>\n",
              "      <td>Rider_Id_648</td>\n",
              "      <td>1746</td>\n",
              "      <td>821</td>\n",
              "      <td>14.3</td>\n",
              "      <td>466</td>\n",
              "    </tr>\n",
              "    <tr>\n",
              "      <th>3</th>\n",
              "      <td>Rider_Id_753</td>\n",
              "      <td>314</td>\n",
              "      <td>980</td>\n",
              "      <td>12.5</td>\n",
              "      <td>75</td>\n",
              "    </tr>\n",
              "    <tr>\n",
              "      <th>4</th>\n",
              "      <td>Rider_Id_335</td>\n",
              "      <td>536</td>\n",
              "      <td>1113</td>\n",
              "      <td>13.7</td>\n",
              "      <td>156</td>\n",
              "    </tr>\n",
              "  </tbody>\n",
              "</table>\n",
              "</div>"
            ],
            "text/plain": [
              "       Rider Id  No_Of_Orders   Age  Average_Rating  No_of_Ratings\n",
              "0  Rider_Id_396          2946  2298            14.0           1159\n",
              "1  Rider_Id_479           360   951            13.5            176\n",
              "2  Rider_Id_648          1746   821            14.3            466\n",
              "3  Rider_Id_753           314   980            12.5             75\n",
              "4  Rider_Id_335           536  1113            13.7            156"
            ]
          },
          "metadata": {
            "tags": []
          },
          "execution_count": 49
        }
      ]
    },
    {
      "cell_type": "code",
      "metadata": {
        "id": "nLX46JFWrviu",
        "colab_type": "code",
        "outputId": "16b548af-4628-4152-824d-38d7df37852a",
        "colab": {
          "base_uri": "https://localhost:8080/",
          "height": 411
        }
      },
      "source": [
        "test_data.head()"
      ],
      "execution_count": 50,
      "outputs": [
        {
          "output_type": "execute_result",
          "data": {
            "text/html": [
              "<div>\n",
              "<style scoped>\n",
              "    .dataframe tbody tr th:only-of-type {\n",
              "        vertical-align: middle;\n",
              "    }\n",
              "\n",
              "    .dataframe tbody tr th {\n",
              "        vertical-align: top;\n",
              "    }\n",
              "\n",
              "    .dataframe thead th {\n",
              "        text-align: right;\n",
              "    }\n",
              "</style>\n",
              "<table border=\"1\" class=\"dataframe\">\n",
              "  <thead>\n",
              "    <tr style=\"text-align: right;\">\n",
              "      <th></th>\n",
              "      <th>Order No</th>\n",
              "      <th>User Id</th>\n",
              "      <th>Vehicle Type</th>\n",
              "      <th>Platform Type</th>\n",
              "      <th>Personal or Business</th>\n",
              "      <th>Placement - Day of Month</th>\n",
              "      <th>Placement - Weekday (Mo = 1)</th>\n",
              "      <th>Placement - Time</th>\n",
              "      <th>Confirmation - Day of Month</th>\n",
              "      <th>Confirmation - Weekday (Mo = 1)</th>\n",
              "      <th>Confirmation - Time</th>\n",
              "      <th>Arrival at Pickup - Day of Month</th>\n",
              "      <th>Arrival at Pickup - Weekday (Mo = 1)</th>\n",
              "      <th>Arrival at Pickup - Time</th>\n",
              "      <th>Pickup - Day of Month</th>\n",
              "      <th>Pickup - Weekday (Mo = 1)</th>\n",
              "      <th>Pickup - Time</th>\n",
              "      <th>Distance (KM)</th>\n",
              "      <th>Temperature</th>\n",
              "      <th>Precipitation in millimeters</th>\n",
              "      <th>Pickup Lat</th>\n",
              "      <th>Pickup Long</th>\n",
              "      <th>Destination Lat</th>\n",
              "      <th>Destination Long</th>\n",
              "      <th>Rider Id</th>\n",
              "    </tr>\n",
              "  </thead>\n",
              "  <tbody>\n",
              "    <tr>\n",
              "      <th>0</th>\n",
              "      <td>Order_No_19248</td>\n",
              "      <td>User_Id_3355</td>\n",
              "      <td>Bike</td>\n",
              "      <td>3</td>\n",
              "      <td>Business</td>\n",
              "      <td>27</td>\n",
              "      <td>3</td>\n",
              "      <td>4:44:10 PM</td>\n",
              "      <td>27</td>\n",
              "      <td>3</td>\n",
              "      <td>4:44:29 PM</td>\n",
              "      <td>27</td>\n",
              "      <td>3</td>\n",
              "      <td>4:53:04 PM</td>\n",
              "      <td>27</td>\n",
              "      <td>3</td>\n",
              "      <td>5:06:47 PM</td>\n",
              "      <td>8</td>\n",
              "      <td>NaN</td>\n",
              "      <td>NaN</td>\n",
              "      <td>-1.333275</td>\n",
              "      <td>36.870815</td>\n",
              "      <td>-1.305249</td>\n",
              "      <td>36.822390</td>\n",
              "      <td>Rider_Id_192</td>\n",
              "    </tr>\n",
              "    <tr>\n",
              "      <th>1</th>\n",
              "      <td>Order_No_12736</td>\n",
              "      <td>User_Id_3647</td>\n",
              "      <td>Bike</td>\n",
              "      <td>3</td>\n",
              "      <td>Business</td>\n",
              "      <td>17</td>\n",
              "      <td>5</td>\n",
              "      <td>12:57:35 PM</td>\n",
              "      <td>17</td>\n",
              "      <td>5</td>\n",
              "      <td>12:59:17 PM</td>\n",
              "      <td>17</td>\n",
              "      <td>5</td>\n",
              "      <td>1:20:27 PM</td>\n",
              "      <td>17</td>\n",
              "      <td>5</td>\n",
              "      <td>1:25:37 PM</td>\n",
              "      <td>5</td>\n",
              "      <td>NaN</td>\n",
              "      <td>NaN</td>\n",
              "      <td>-1.272639</td>\n",
              "      <td>36.794723</td>\n",
              "      <td>-1.277007</td>\n",
              "      <td>36.823907</td>\n",
              "      <td>Rider_Id_868</td>\n",
              "    </tr>\n",
              "    <tr>\n",
              "      <th>2</th>\n",
              "      <td>Order_No_768</td>\n",
              "      <td>User_Id_2154</td>\n",
              "      <td>Bike</td>\n",
              "      <td>3</td>\n",
              "      <td>Business</td>\n",
              "      <td>27</td>\n",
              "      <td>4</td>\n",
              "      <td>11:08:14 AM</td>\n",
              "      <td>27</td>\n",
              "      <td>4</td>\n",
              "      <td>11:25:05 AM</td>\n",
              "      <td>27</td>\n",
              "      <td>4</td>\n",
              "      <td>11:33:20 AM</td>\n",
              "      <td>27</td>\n",
              "      <td>4</td>\n",
              "      <td>11:57:54 AM</td>\n",
              "      <td>5</td>\n",
              "      <td>22.8</td>\n",
              "      <td>NaN</td>\n",
              "      <td>-1.290894</td>\n",
              "      <td>36.822971</td>\n",
              "      <td>-1.276574</td>\n",
              "      <td>36.851365</td>\n",
              "      <td>Rider_Id_26</td>\n",
              "    </tr>\n",
              "    <tr>\n",
              "      <th>3</th>\n",
              "      <td>Order_No_15332</td>\n",
              "      <td>User_Id_2910</td>\n",
              "      <td>Bike</td>\n",
              "      <td>3</td>\n",
              "      <td>Business</td>\n",
              "      <td>17</td>\n",
              "      <td>1</td>\n",
              "      <td>1:51:35 PM</td>\n",
              "      <td>17</td>\n",
              "      <td>1</td>\n",
              "      <td>1:53:27 PM</td>\n",
              "      <td>17</td>\n",
              "      <td>1</td>\n",
              "      <td>2:02:41 PM</td>\n",
              "      <td>17</td>\n",
              "      <td>1</td>\n",
              "      <td>2:16:52 PM</td>\n",
              "      <td>5</td>\n",
              "      <td>24.5</td>\n",
              "      <td>NaN</td>\n",
              "      <td>-1.290503</td>\n",
              "      <td>36.809646</td>\n",
              "      <td>-1.303382</td>\n",
              "      <td>36.790658</td>\n",
              "      <td>Rider_Id_685</td>\n",
              "    </tr>\n",
              "    <tr>\n",
              "      <th>4</th>\n",
              "      <td>Order_No_21373</td>\n",
              "      <td>User_Id_1205</td>\n",
              "      <td>Bike</td>\n",
              "      <td>3</td>\n",
              "      <td>Business</td>\n",
              "      <td>11</td>\n",
              "      <td>2</td>\n",
              "      <td>11:30:28 AM</td>\n",
              "      <td>11</td>\n",
              "      <td>2</td>\n",
              "      <td>11:34:45 AM</td>\n",
              "      <td>11</td>\n",
              "      <td>2</td>\n",
              "      <td>11:47:19 AM</td>\n",
              "      <td>11</td>\n",
              "      <td>2</td>\n",
              "      <td>11:56:04 AM</td>\n",
              "      <td>6</td>\n",
              "      <td>24.4</td>\n",
              "      <td>NaN</td>\n",
              "      <td>-1.281081</td>\n",
              "      <td>36.814423</td>\n",
              "      <td>-1.266467</td>\n",
              "      <td>36.792161</td>\n",
              "      <td>Rider_Id_858</td>\n",
              "    </tr>\n",
              "  </tbody>\n",
              "</table>\n",
              "</div>"
            ],
            "text/plain": [
              "         Order No       User Id  ... Destination Long      Rider Id\n",
              "0  Order_No_19248  User_Id_3355  ...        36.822390  Rider_Id_192\n",
              "1  Order_No_12736  User_Id_3647  ...        36.823907  Rider_Id_868\n",
              "2    Order_No_768  User_Id_2154  ...        36.851365   Rider_Id_26\n",
              "3  Order_No_15332  User_Id_2910  ...        36.790658  Rider_Id_685\n",
              "4  Order_No_21373  User_Id_1205  ...        36.792161  Rider_Id_858\n",
              "\n",
              "[5 rows x 25 columns]"
            ]
          },
          "metadata": {
            "tags": []
          },
          "execution_count": 50
        }
      ]
    },
    {
      "cell_type": "code",
      "metadata": {
        "id": "CsCX1RotrzQI",
        "colab_type": "code",
        "outputId": "e27eb783-a9a1-4572-ea10-11b9bde3decf",
        "colab": {
          "base_uri": "https://localhost:8080/",
          "height": 368
        }
      },
      "source": [
        "data.describe()"
      ],
      "execution_count": 51,
      "outputs": [
        {
          "output_type": "execute_result",
          "data": {
            "text/html": [
              "<div>\n",
              "<style scoped>\n",
              "    .dataframe tbody tr th:only-of-type {\n",
              "        vertical-align: middle;\n",
              "    }\n",
              "\n",
              "    .dataframe tbody tr th {\n",
              "        vertical-align: top;\n",
              "    }\n",
              "\n",
              "    .dataframe thead th {\n",
              "        text-align: right;\n",
              "    }\n",
              "</style>\n",
              "<table border=\"1\" class=\"dataframe\">\n",
              "  <thead>\n",
              "    <tr style=\"text-align: right;\">\n",
              "      <th></th>\n",
              "      <th>Platform Type</th>\n",
              "      <th>Placement - Day of Month</th>\n",
              "      <th>Placement - Weekday (Mo = 1)</th>\n",
              "      <th>Confirmation - Day of Month</th>\n",
              "      <th>Confirmation - Weekday (Mo = 1)</th>\n",
              "      <th>Arrival at Pickup - Day of Month</th>\n",
              "      <th>Arrival at Pickup - Weekday (Mo = 1)</th>\n",
              "      <th>Pickup - Day of Month</th>\n",
              "      <th>Pickup - Weekday (Mo = 1)</th>\n",
              "      <th>Arrival at Destination - Day of Month</th>\n",
              "      <th>Arrival at Destination - Weekday (Mo = 1)</th>\n",
              "      <th>Distance (KM)</th>\n",
              "      <th>Temperature</th>\n",
              "      <th>Precipitation in millimeters</th>\n",
              "      <th>Pickup Lat</th>\n",
              "      <th>Pickup Long</th>\n",
              "      <th>Destination Lat</th>\n",
              "      <th>Destination Long</th>\n",
              "      <th>Time from Pickup to Arrival</th>\n",
              "    </tr>\n",
              "  </thead>\n",
              "  <tbody>\n",
              "    <tr>\n",
              "      <th>count</th>\n",
              "      <td>21201.000000</td>\n",
              "      <td>21201.000000</td>\n",
              "      <td>21201.000000</td>\n",
              "      <td>21201.000000</td>\n",
              "      <td>21201.000000</td>\n",
              "      <td>21201.000000</td>\n",
              "      <td>21201.000000</td>\n",
              "      <td>21201.000000</td>\n",
              "      <td>21201.000000</td>\n",
              "      <td>21201.000000</td>\n",
              "      <td>21201.000000</td>\n",
              "      <td>21201.000000</td>\n",
              "      <td>16835.000000</td>\n",
              "      <td>552.000000</td>\n",
              "      <td>21201.000000</td>\n",
              "      <td>21201.000000</td>\n",
              "      <td>21201.000000</td>\n",
              "      <td>21201.000000</td>\n",
              "      <td>21201.000000</td>\n",
              "    </tr>\n",
              "    <tr>\n",
              "      <th>mean</th>\n",
              "      <td>2.752182</td>\n",
              "      <td>15.653696</td>\n",
              "      <td>3.240083</td>\n",
              "      <td>15.653837</td>\n",
              "      <td>3.240225</td>\n",
              "      <td>15.653837</td>\n",
              "      <td>3.240225</td>\n",
              "      <td>15.653837</td>\n",
              "      <td>3.240225</td>\n",
              "      <td>15.653837</td>\n",
              "      <td>3.240225</td>\n",
              "      <td>9.506533</td>\n",
              "      <td>23.258889</td>\n",
              "      <td>7.905797</td>\n",
              "      <td>-1.281470</td>\n",
              "      <td>36.811264</td>\n",
              "      <td>-1.282581</td>\n",
              "      <td>36.811220</td>\n",
              "      <td>1556.920947</td>\n",
              "    </tr>\n",
              "    <tr>\n",
              "      <th>std</th>\n",
              "      <td>0.625178</td>\n",
              "      <td>8.798916</td>\n",
              "      <td>1.567295</td>\n",
              "      <td>8.798886</td>\n",
              "      <td>1.567228</td>\n",
              "      <td>8.798886</td>\n",
              "      <td>1.567228</td>\n",
              "      <td>8.798886</td>\n",
              "      <td>1.567228</td>\n",
              "      <td>8.798886</td>\n",
              "      <td>1.567228</td>\n",
              "      <td>5.668963</td>\n",
              "      <td>3.615768</td>\n",
              "      <td>17.089971</td>\n",
              "      <td>0.030507</td>\n",
              "      <td>0.037473</td>\n",
              "      <td>0.034824</td>\n",
              "      <td>0.044721</td>\n",
              "      <td>987.270788</td>\n",
              "    </tr>\n",
              "    <tr>\n",
              "      <th>min</th>\n",
              "      <td>1.000000</td>\n",
              "      <td>1.000000</td>\n",
              "      <td>1.000000</td>\n",
              "      <td>1.000000</td>\n",
              "      <td>1.000000</td>\n",
              "      <td>1.000000</td>\n",
              "      <td>1.000000</td>\n",
              "      <td>1.000000</td>\n",
              "      <td>1.000000</td>\n",
              "      <td>1.000000</td>\n",
              "      <td>1.000000</td>\n",
              "      <td>1.000000</td>\n",
              "      <td>11.200000</td>\n",
              "      <td>0.100000</td>\n",
              "      <td>-1.438302</td>\n",
              "      <td>36.653621</td>\n",
              "      <td>-1.430298</td>\n",
              "      <td>36.606594</td>\n",
              "      <td>1.000000</td>\n",
              "    </tr>\n",
              "    <tr>\n",
              "      <th>25%</th>\n",
              "      <td>3.000000</td>\n",
              "      <td>8.000000</td>\n",
              "      <td>2.000000</td>\n",
              "      <td>8.000000</td>\n",
              "      <td>2.000000</td>\n",
              "      <td>8.000000</td>\n",
              "      <td>2.000000</td>\n",
              "      <td>8.000000</td>\n",
              "      <td>2.000000</td>\n",
              "      <td>8.000000</td>\n",
              "      <td>2.000000</td>\n",
              "      <td>5.000000</td>\n",
              "      <td>20.600000</td>\n",
              "      <td>1.075000</td>\n",
              "      <td>-1.300921</td>\n",
              "      <td>36.784605</td>\n",
              "      <td>-1.301201</td>\n",
              "      <td>36.785661</td>\n",
              "      <td>882.000000</td>\n",
              "    </tr>\n",
              "    <tr>\n",
              "      <th>50%</th>\n",
              "      <td>3.000000</td>\n",
              "      <td>15.000000</td>\n",
              "      <td>3.000000</td>\n",
              "      <td>15.000000</td>\n",
              "      <td>3.000000</td>\n",
              "      <td>15.000000</td>\n",
              "      <td>3.000000</td>\n",
              "      <td>15.000000</td>\n",
              "      <td>3.000000</td>\n",
              "      <td>15.000000</td>\n",
              "      <td>3.000000</td>\n",
              "      <td>8.000000</td>\n",
              "      <td>23.500000</td>\n",
              "      <td>2.900000</td>\n",
              "      <td>-1.279395</td>\n",
              "      <td>36.807040</td>\n",
              "      <td>-1.284382</td>\n",
              "      <td>36.808002</td>\n",
              "      <td>1369.000000</td>\n",
              "    </tr>\n",
              "    <tr>\n",
              "      <th>75%</th>\n",
              "      <td>3.000000</td>\n",
              "      <td>23.000000</td>\n",
              "      <td>5.000000</td>\n",
              "      <td>23.000000</td>\n",
              "      <td>5.000000</td>\n",
              "      <td>23.000000</td>\n",
              "      <td>5.000000</td>\n",
              "      <td>23.000000</td>\n",
              "      <td>5.000000</td>\n",
              "      <td>23.000000</td>\n",
              "      <td>5.000000</td>\n",
              "      <td>13.000000</td>\n",
              "      <td>26.000000</td>\n",
              "      <td>4.900000</td>\n",
              "      <td>-1.257147</td>\n",
              "      <td>36.829741</td>\n",
              "      <td>-1.261177</td>\n",
              "      <td>36.829477</td>\n",
              "      <td>2040.000000</td>\n",
              "    </tr>\n",
              "    <tr>\n",
              "      <th>max</th>\n",
              "      <td>4.000000</td>\n",
              "      <td>31.000000</td>\n",
              "      <td>7.000000</td>\n",
              "      <td>31.000000</td>\n",
              "      <td>7.000000</td>\n",
              "      <td>31.000000</td>\n",
              "      <td>7.000000</td>\n",
              "      <td>31.000000</td>\n",
              "      <td>7.000000</td>\n",
              "      <td>31.000000</td>\n",
              "      <td>7.000000</td>\n",
              "      <td>49.000000</td>\n",
              "      <td>32.100000</td>\n",
              "      <td>99.100000</td>\n",
              "      <td>-1.147170</td>\n",
              "      <td>36.991046</td>\n",
              "      <td>-1.030225</td>\n",
              "      <td>37.016779</td>\n",
              "      <td>7883.000000</td>\n",
              "    </tr>\n",
              "  </tbody>\n",
              "</table>\n",
              "</div>"
            ],
            "text/plain": [
              "       Platform Type  ...  Time from Pickup to Arrival\n",
              "count   21201.000000  ...                 21201.000000\n",
              "mean        2.752182  ...                  1556.920947\n",
              "std         0.625178  ...                   987.270788\n",
              "min         1.000000  ...                     1.000000\n",
              "25%         3.000000  ...                   882.000000\n",
              "50%         3.000000  ...                  1369.000000\n",
              "75%         3.000000  ...                  2040.000000\n",
              "max         4.000000  ...                  7883.000000\n",
              "\n",
              "[8 rows x 19 columns]"
            ]
          },
          "metadata": {
            "tags": []
          },
          "execution_count": 51
        }
      ]
    },
    {
      "cell_type": "code",
      "metadata": {
        "id": "9YnVQEqPr3ga",
        "colab_type": "code",
        "outputId": "5136d76c-6c73-4950-ad48-72ef2dd8397b",
        "colab": {
          "base_uri": "https://localhost:8080/",
          "height": 297
        }
      },
      "source": [
        "riders.describe()"
      ],
      "execution_count": 52,
      "outputs": [
        {
          "output_type": "execute_result",
          "data": {
            "text/html": [
              "<div>\n",
              "<style scoped>\n",
              "    .dataframe tbody tr th:only-of-type {\n",
              "        vertical-align: middle;\n",
              "    }\n",
              "\n",
              "    .dataframe tbody tr th {\n",
              "        vertical-align: top;\n",
              "    }\n",
              "\n",
              "    .dataframe thead th {\n",
              "        text-align: right;\n",
              "    }\n",
              "</style>\n",
              "<table border=\"1\" class=\"dataframe\">\n",
              "  <thead>\n",
              "    <tr style=\"text-align: right;\">\n",
              "      <th></th>\n",
              "      <th>No_Of_Orders</th>\n",
              "      <th>Age</th>\n",
              "      <th>Average_Rating</th>\n",
              "      <th>No_of_Ratings</th>\n",
              "    </tr>\n",
              "  </thead>\n",
              "  <tbody>\n",
              "    <tr>\n",
              "      <th>count</th>\n",
              "      <td>960.000000</td>\n",
              "      <td>960.000000</td>\n",
              "      <td>960.000000</td>\n",
              "      <td>960.000000</td>\n",
              "    </tr>\n",
              "    <tr>\n",
              "      <th>mean</th>\n",
              "      <td>1864.851042</td>\n",
              "      <td>1200.234375</td>\n",
              "      <td>13.412604</td>\n",
              "      <td>427.983333</td>\n",
              "    </tr>\n",
              "    <tr>\n",
              "      <th>std</th>\n",
              "      <td>1880.337785</td>\n",
              "      <td>810.930171</td>\n",
              "      <td>2.675794</td>\n",
              "      <td>486.957931</td>\n",
              "    </tr>\n",
              "    <tr>\n",
              "      <th>min</th>\n",
              "      <td>2.000000</td>\n",
              "      <td>96.000000</td>\n",
              "      <td>0.000000</td>\n",
              "      <td>0.000000</td>\n",
              "    </tr>\n",
              "    <tr>\n",
              "      <th>25%</th>\n",
              "      <td>261.750000</td>\n",
              "      <td>478.250000</td>\n",
              "      <td>13.500000</td>\n",
              "      <td>30.000000</td>\n",
              "    </tr>\n",
              "    <tr>\n",
              "      <th>50%</th>\n",
              "      <td>1475.500000</td>\n",
              "      <td>1021.000000</td>\n",
              "      <td>14.000000</td>\n",
              "      <td>223.000000</td>\n",
              "    </tr>\n",
              "    <tr>\n",
              "      <th>75%</th>\n",
              "      <td>2847.250000</td>\n",
              "      <td>1891.500000</td>\n",
              "      <td>14.300000</td>\n",
              "      <td>678.750000</td>\n",
              "    </tr>\n",
              "    <tr>\n",
              "      <th>max</th>\n",
              "      <td>9756.000000</td>\n",
              "      <td>3764.000000</td>\n",
              "      <td>15.200000</td>\n",
              "      <td>2298.000000</td>\n",
              "    </tr>\n",
              "  </tbody>\n",
              "</table>\n",
              "</div>"
            ],
            "text/plain": [
              "       No_Of_Orders          Age  Average_Rating  No_of_Ratings\n",
              "count    960.000000   960.000000      960.000000     960.000000\n",
              "mean    1864.851042  1200.234375       13.412604     427.983333\n",
              "std     1880.337785   810.930171        2.675794     486.957931\n",
              "min        2.000000    96.000000        0.000000       0.000000\n",
              "25%      261.750000   478.250000       13.500000      30.000000\n",
              "50%     1475.500000  1021.000000       14.000000     223.000000\n",
              "75%     2847.250000  1891.500000       14.300000     678.750000\n",
              "max     9756.000000  3764.000000       15.200000    2298.000000"
            ]
          },
          "metadata": {
            "tags": []
          },
          "execution_count": 52
        }
      ]
    },
    {
      "cell_type": "code",
      "metadata": {
        "id": "jjfWeegXsB7E",
        "colab_type": "code",
        "outputId": "87dccc39-1b38-43ce-f033-b02f9bc4eb26",
        "colab": {
          "base_uri": "https://localhost:8080/",
          "height": 348
        }
      },
      "source": [
        "test_data.describe()"
      ],
      "execution_count": 53,
      "outputs": [
        {
          "output_type": "execute_result",
          "data": {
            "text/html": [
              "<div>\n",
              "<style scoped>\n",
              "    .dataframe tbody tr th:only-of-type {\n",
              "        vertical-align: middle;\n",
              "    }\n",
              "\n",
              "    .dataframe tbody tr th {\n",
              "        vertical-align: top;\n",
              "    }\n",
              "\n",
              "    .dataframe thead th {\n",
              "        text-align: right;\n",
              "    }\n",
              "</style>\n",
              "<table border=\"1\" class=\"dataframe\">\n",
              "  <thead>\n",
              "    <tr style=\"text-align: right;\">\n",
              "      <th></th>\n",
              "      <th>Platform Type</th>\n",
              "      <th>Placement - Day of Month</th>\n",
              "      <th>Placement - Weekday (Mo = 1)</th>\n",
              "      <th>Confirmation - Day of Month</th>\n",
              "      <th>Confirmation - Weekday (Mo = 1)</th>\n",
              "      <th>Arrival at Pickup - Day of Month</th>\n",
              "      <th>Arrival at Pickup - Weekday (Mo = 1)</th>\n",
              "      <th>Pickup - Day of Month</th>\n",
              "      <th>Pickup - Weekday (Mo = 1)</th>\n",
              "      <th>Distance (KM)</th>\n",
              "      <th>Temperature</th>\n",
              "      <th>Precipitation in millimeters</th>\n",
              "      <th>Pickup Lat</th>\n",
              "      <th>Pickup Long</th>\n",
              "      <th>Destination Lat</th>\n",
              "      <th>Destination Long</th>\n",
              "    </tr>\n",
              "  </thead>\n",
              "  <tbody>\n",
              "    <tr>\n",
              "      <th>count</th>\n",
              "      <td>7068.000000</td>\n",
              "      <td>7068.000000</td>\n",
              "      <td>7068.000000</td>\n",
              "      <td>7068.000000</td>\n",
              "      <td>7068.000000</td>\n",
              "      <td>7068.000000</td>\n",
              "      <td>7068.000000</td>\n",
              "      <td>7068.000000</td>\n",
              "      <td>7068.000000</td>\n",
              "      <td>7068.000000</td>\n",
              "      <td>5631.000000</td>\n",
              "      <td>199.000000</td>\n",
              "      <td>7068.000000</td>\n",
              "      <td>7068.000000</td>\n",
              "      <td>7068.000000</td>\n",
              "      <td>7068.000000</td>\n",
              "    </tr>\n",
              "    <tr>\n",
              "      <th>mean</th>\n",
              "      <td>2.752122</td>\n",
              "      <td>15.621817</td>\n",
              "      <td>3.249859</td>\n",
              "      <td>15.621817</td>\n",
              "      <td>3.249859</td>\n",
              "      <td>15.621817</td>\n",
              "      <td>3.249859</td>\n",
              "      <td>15.621817</td>\n",
              "      <td>3.249859</td>\n",
              "      <td>9.458970</td>\n",
              "      <td>23.246120</td>\n",
              "      <td>6.651759</td>\n",
              "      <td>-1.282043</td>\n",
              "      <td>36.811148</td>\n",
              "      <td>-1.282255</td>\n",
              "      <td>36.811326</td>\n",
              "    </tr>\n",
              "    <tr>\n",
              "      <th>std</th>\n",
              "      <td>0.624000</td>\n",
              "      <td>8.776650</td>\n",
              "      <td>1.580926</td>\n",
              "      <td>8.776650</td>\n",
              "      <td>1.580926</td>\n",
              "      <td>8.776650</td>\n",
              "      <td>1.580926</td>\n",
              "      <td>8.776650</td>\n",
              "      <td>1.580926</td>\n",
              "      <td>5.575689</td>\n",
              "      <td>3.591161</td>\n",
              "      <td>14.085439</td>\n",
              "      <td>0.030044</td>\n",
              "      <td>0.037962</td>\n",
              "      <td>0.034236</td>\n",
              "      <td>0.043507</td>\n",
              "    </tr>\n",
              "    <tr>\n",
              "      <th>min</th>\n",
              "      <td>1.000000</td>\n",
              "      <td>1.000000</td>\n",
              "      <td>1.000000</td>\n",
              "      <td>1.000000</td>\n",
              "      <td>1.000000</td>\n",
              "      <td>1.000000</td>\n",
              "      <td>1.000000</td>\n",
              "      <td>1.000000</td>\n",
              "      <td>1.000000</td>\n",
              "      <td>1.000000</td>\n",
              "      <td>13.200000</td>\n",
              "      <td>0.100000</td>\n",
              "      <td>-1.433512</td>\n",
              "      <td>36.653828</td>\n",
              "      <td>-1.422652</td>\n",
              "      <td>36.639195</td>\n",
              "    </tr>\n",
              "    <tr>\n",
              "      <th>25%</th>\n",
              "      <td>3.000000</td>\n",
              "      <td>8.000000</td>\n",
              "      <td>2.000000</td>\n",
              "      <td>8.000000</td>\n",
              "      <td>2.000000</td>\n",
              "      <td>8.000000</td>\n",
              "      <td>2.000000</td>\n",
              "      <td>8.000000</td>\n",
              "      <td>2.000000</td>\n",
              "      <td>5.000000</td>\n",
              "      <td>20.600000</td>\n",
              "      <td>1.100000</td>\n",
              "      <td>-1.301201</td>\n",
              "      <td>36.784605</td>\n",
              "      <td>-1.300921</td>\n",
              "      <td>36.786546</td>\n",
              "    </tr>\n",
              "    <tr>\n",
              "      <th>50%</th>\n",
              "      <td>3.000000</td>\n",
              "      <td>15.000000</td>\n",
              "      <td>3.000000</td>\n",
              "      <td>15.000000</td>\n",
              "      <td>3.000000</td>\n",
              "      <td>15.000000</td>\n",
              "      <td>3.000000</td>\n",
              "      <td>15.000000</td>\n",
              "      <td>3.000000</td>\n",
              "      <td>8.000000</td>\n",
              "      <td>23.400000</td>\n",
              "      <td>2.900000</td>\n",
              "      <td>-1.281301</td>\n",
              "      <td>36.807219</td>\n",
              "      <td>-1.283219</td>\n",
              "      <td>36.807927</td>\n",
              "    </tr>\n",
              "    <tr>\n",
              "      <th>75%</th>\n",
              "      <td>3.000000</td>\n",
              "      <td>23.000000</td>\n",
              "      <td>5.000000</td>\n",
              "      <td>23.000000</td>\n",
              "      <td>5.000000</td>\n",
              "      <td>23.000000</td>\n",
              "      <td>5.000000</td>\n",
              "      <td>23.000000</td>\n",
              "      <td>5.000000</td>\n",
              "      <td>13.000000</td>\n",
              "      <td>25.900000</td>\n",
              "      <td>4.950000</td>\n",
              "      <td>-1.257274</td>\n",
              "      <td>36.829716</td>\n",
              "      <td>-1.261256</td>\n",
              "      <td>36.828195</td>\n",
              "    </tr>\n",
              "    <tr>\n",
              "      <th>max</th>\n",
              "      <td>4.000000</td>\n",
              "      <td>31.000000</td>\n",
              "      <td>7.000000</td>\n",
              "      <td>31.000000</td>\n",
              "      <td>7.000000</td>\n",
              "      <td>31.000000</td>\n",
              "      <td>7.000000</td>\n",
              "      <td>31.000000</td>\n",
              "      <td>7.000000</td>\n",
              "      <td>47.000000</td>\n",
              "      <td>32.100000</td>\n",
              "      <td>99.100000</td>\n",
              "      <td>-1.148352</td>\n",
              "      <td>36.991046</td>\n",
              "      <td>-1.030225</td>\n",
              "      <td>37.018958</td>\n",
              "    </tr>\n",
              "  </tbody>\n",
              "</table>\n",
              "</div>"
            ],
            "text/plain": [
              "       Platform Type  ...  Destination Long\n",
              "count    7068.000000  ...       7068.000000\n",
              "mean        2.752122  ...         36.811326\n",
              "std         0.624000  ...          0.043507\n",
              "min         1.000000  ...         36.639195\n",
              "25%         3.000000  ...         36.786546\n",
              "50%         3.000000  ...         36.807927\n",
              "75%         3.000000  ...         36.828195\n",
              "max         4.000000  ...         37.018958\n",
              "\n",
              "[8 rows x 16 columns]"
            ]
          },
          "metadata": {
            "tags": []
          },
          "execution_count": 53
        }
      ]
    },
    {
      "cell_type": "code",
      "metadata": {
        "id": "mNn9nh2psFKz",
        "colab_type": "code",
        "outputId": "7e179c4a-4605-46cf-bdd9-396f76932e34",
        "colab": {
          "base_uri": "https://localhost:8080/",
          "height": 629
        }
      },
      "source": [
        "\n",
        "data.info()"
      ],
      "execution_count": 54,
      "outputs": [
        {
          "output_type": "stream",
          "text": [
            "<class 'pandas.core.frame.DataFrame'>\n",
            "RangeIndex: 21201 entries, 0 to 21200\n",
            "Data columns (total 29 columns):\n",
            " #   Column                                     Non-Null Count  Dtype  \n",
            "---  ------                                     --------------  -----  \n",
            " 0   Order No                                   21201 non-null  object \n",
            " 1   User Id                                    21201 non-null  object \n",
            " 2   Vehicle Type                               21201 non-null  object \n",
            " 3   Platform Type                              21201 non-null  int64  \n",
            " 4   Personal or Business                       21201 non-null  object \n",
            " 5   Placement - Day of Month                   21201 non-null  int64  \n",
            " 6   Placement - Weekday (Mo = 1)               21201 non-null  int64  \n",
            " 7   Placement - Time                           21201 non-null  object \n",
            " 8   Confirmation - Day of Month                21201 non-null  int64  \n",
            " 9   Confirmation - Weekday (Mo = 1)            21201 non-null  int64  \n",
            " 10  Confirmation - Time                        21201 non-null  object \n",
            " 11  Arrival at Pickup - Day of Month           21201 non-null  int64  \n",
            " 12  Arrival at Pickup - Weekday (Mo = 1)       21201 non-null  int64  \n",
            " 13  Arrival at Pickup - Time                   21201 non-null  object \n",
            " 14  Pickup - Day of Month                      21201 non-null  int64  \n",
            " 15  Pickup - Weekday (Mo = 1)                  21201 non-null  int64  \n",
            " 16  Pickup - Time                              21201 non-null  object \n",
            " 17  Arrival at Destination - Day of Month      21201 non-null  int64  \n",
            " 18  Arrival at Destination - Weekday (Mo = 1)  21201 non-null  int64  \n",
            " 19  Arrival at Destination - Time              21201 non-null  object \n",
            " 20  Distance (KM)                              21201 non-null  int64  \n",
            " 21  Temperature                                16835 non-null  float64\n",
            " 22  Precipitation in millimeters               552 non-null    float64\n",
            " 23  Pickup Lat                                 21201 non-null  float64\n",
            " 24  Pickup Long                                21201 non-null  float64\n",
            " 25  Destination Lat                            21201 non-null  float64\n",
            " 26  Destination Long                           21201 non-null  float64\n",
            " 27  Rider Id                                   21201 non-null  object \n",
            " 28  Time from Pickup to Arrival                21201 non-null  int64  \n",
            "dtypes: float64(6), int64(13), object(10)\n",
            "memory usage: 4.7+ MB\n"
          ],
          "name": "stdout"
        }
      ]
    },
    {
      "cell_type": "code",
      "metadata": {
        "id": "l__v6bB5sPRN",
        "colab_type": "code",
        "outputId": "8a5d351d-ddcf-49b6-f12b-268b08ef3702",
        "colab": {
          "base_uri": "https://localhost:8080/",
          "height": 221
        }
      },
      "source": [
        "riders.info()"
      ],
      "execution_count": 55,
      "outputs": [
        {
          "output_type": "stream",
          "text": [
            "<class 'pandas.core.frame.DataFrame'>\n",
            "RangeIndex: 960 entries, 0 to 959\n",
            "Data columns (total 5 columns):\n",
            " #   Column          Non-Null Count  Dtype  \n",
            "---  ------          --------------  -----  \n",
            " 0   Rider Id        960 non-null    object \n",
            " 1   No_Of_Orders    960 non-null    int64  \n",
            " 2   Age             960 non-null    int64  \n",
            " 3   Average_Rating  960 non-null    float64\n",
            " 4   No_of_Ratings   960 non-null    int64  \n",
            "dtypes: float64(1), int64(3), object(1)\n",
            "memory usage: 37.6+ KB\n"
          ],
          "name": "stdout"
        }
      ]
    },
    {
      "cell_type": "code",
      "metadata": {
        "id": "Mv5DHAZgsUCX",
        "colab_type": "code",
        "outputId": "ff9e95b2-81a9-45cd-f041-025c2847e1d2",
        "colab": {
          "base_uri": "https://localhost:8080/",
          "height": 561
        }
      },
      "source": [
        "test_data.info()"
      ],
      "execution_count": 56,
      "outputs": [
        {
          "output_type": "stream",
          "text": [
            "<class 'pandas.core.frame.DataFrame'>\n",
            "RangeIndex: 7068 entries, 0 to 7067\n",
            "Data columns (total 25 columns):\n",
            " #   Column                                Non-Null Count  Dtype  \n",
            "---  ------                                --------------  -----  \n",
            " 0   Order No                              7068 non-null   object \n",
            " 1   User Id                               7068 non-null   object \n",
            " 2   Vehicle Type                          7068 non-null   object \n",
            " 3   Platform Type                         7068 non-null   int64  \n",
            " 4   Personal or Business                  7068 non-null   object \n",
            " 5   Placement - Day of Month              7068 non-null   int64  \n",
            " 6   Placement - Weekday (Mo = 1)          7068 non-null   int64  \n",
            " 7   Placement - Time                      7068 non-null   object \n",
            " 8   Confirmation - Day of Month           7068 non-null   int64  \n",
            " 9   Confirmation - Weekday (Mo = 1)       7068 non-null   int64  \n",
            " 10  Confirmation - Time                   7068 non-null   object \n",
            " 11  Arrival at Pickup - Day of Month      7068 non-null   int64  \n",
            " 12  Arrival at Pickup - Weekday (Mo = 1)  7068 non-null   int64  \n",
            " 13  Arrival at Pickup - Time              7068 non-null   object \n",
            " 14  Pickup - Day of Month                 7068 non-null   int64  \n",
            " 15  Pickup - Weekday (Mo = 1)             7068 non-null   int64  \n",
            " 16  Pickup - Time                         7068 non-null   object \n",
            " 17  Distance (KM)                         7068 non-null   int64  \n",
            " 18  Temperature                           5631 non-null   float64\n",
            " 19  Precipitation in millimeters          199 non-null    float64\n",
            " 20  Pickup Lat                            7068 non-null   float64\n",
            " 21  Pickup Long                           7068 non-null   float64\n",
            " 22  Destination Lat                       7068 non-null   float64\n",
            " 23  Destination Long                      7068 non-null   float64\n",
            " 24  Rider Id                              7068 non-null   object \n",
            "dtypes: float64(6), int64(10), object(9)\n",
            "memory usage: 1.3+ MB\n"
          ],
          "name": "stdout"
        }
      ]
    },
    {
      "cell_type": "code",
      "metadata": {
        "id": "pNs0PmrGsXXt",
        "colab_type": "code",
        "outputId": "dc425bd6-1517-4a40-d078-bb2ff70581f6",
        "colab": {
          "base_uri": "https://localhost:8080/",
          "height": 85
        }
      },
      "source": [
        "#Check that attributes in data are all present in test_data\n",
        "\n",
        "for column in data.columns:\n",
        "    if column not in test_data.columns:\n",
        "        print(column)"
      ],
      "execution_count": 57,
      "outputs": [
        {
          "output_type": "stream",
          "text": [
            "Arrival at Destination - Day of Month\n",
            "Arrival at Destination - Weekday (Mo = 1)\n",
            "Arrival at Destination - Time\n",
            "Time from Pickup to Arrival\n"
          ],
          "name": "stdout"
        }
      ]
    },
    {
      "cell_type": "markdown",
      "metadata": {
        "id": "AQ-LhB9Psn1m",
        "colab_type": "text"
      },
      "source": [
        "## Data preprocessing\n",
        "1. Make 'User Id' column numeric\n",
        "2. Make 'Rider Id' column numeric\n",
        "3. One hot encode 'Personal or Business' columns"
      ]
    },
    {
      "cell_type": "code",
      "metadata": {
        "id": "geu2Obeo7IJT",
        "colab_type": "code",
        "colab": {}
      },
      "source": [
        "df = data.copy()"
      ],
      "execution_count": 0,
      "outputs": []
    },
    {
      "cell_type": "code",
      "metadata": {
        "id": "l04H7P1c7M2I",
        "colab_type": "code",
        "outputId": "f9e8cf80-ac36-4a46-df2f-89d72308911e",
        "colab": {
          "base_uri": "https://localhost:8080/",
          "height": 0
        }
      },
      "source": [
        "#Drop columns that have more than 50% missing data\n",
        "\n",
        "col_names = list(df.columns)\n",
        "for i in range(len(col_names)):\n",
        "    if (sum(df[col_names[i]].isna()) / len(df) * 100) > 50:\n",
        "        print(col_names[i])\n",
        "        df = df.drop(col_names[i], axis=1)"
      ],
      "execution_count": 59,
      "outputs": [
        {
          "output_type": "stream",
          "text": [
            "Precipitation in millimeters\n"
          ],
          "name": "stdout"
        }
      ]
    },
    {
      "cell_type": "code",
      "metadata": {
        "id": "Se-Eaamn7NpO",
        "colab_type": "code",
        "colab": {}
      },
      "source": [
        "#Given only one vehicle type\n",
        "\n",
        "df = df.drop('Vehicle Type', axis=1)"
      ],
      "execution_count": 0,
      "outputs": []
    },
    {
      "cell_type": "code",
      "metadata": {
        "id": "kCy-kGti7Yca",
        "colab_type": "code",
        "colab": {}
      },
      "source": [
        "#Delete attributes that are absent from test data except the dependent variable\n",
        "\n",
        "df = df.drop([col for col in df.columns if 'Arrival at Destination' in col], axis=1)"
      ],
      "execution_count": 0,
      "outputs": []
    },
    {
      "cell_type": "code",
      "metadata": {
        "id": "_RSItR6gsqsZ",
        "colab_type": "code",
        "colab": {}
      },
      "source": [
        "#Make 'User Id' column numeric\n",
        "\n",
        "df['user_id'] = pd.to_numeric(df['User Id'].str.split('User_Id_', n=1, expand = True)[1])"
      ],
      "execution_count": 0,
      "outputs": []
    },
    {
      "cell_type": "code",
      "metadata": {
        "id": "S7cvAUdxszEJ",
        "colab_type": "code",
        "colab": {}
      },
      "source": [
        "#One hot encode 'Personal or Business' and 'Platform Type' columns. Drop (n - 1) columns to avoid the dummy variable trap.\n",
        "\n",
        "df = pd.get_dummies(df, columns=['Personal or Business'], drop_first=True)\n",
        "df = pd.get_dummies(df, columns=['Platform Type'], drop_first=True)"
      ],
      "execution_count": 0,
      "outputs": []
    },
    {
      "cell_type": "markdown",
      "metadata": {
        "id": "Q8GX1e9FtAKC",
        "colab_type": "text"
      },
      "source": [
        "## Encoding date and time attributes\n",
        "1. Transform to timestamps\n",
        "2. Calculate time intervals between all time columns. Aim is to get a numeric value that can be tested for collinearity, \n",
        "    may act as a calculated value for the model\n",
        "3. Check for any negative values (eg. impossible for a confirmation to happen before an order is placed)\n",
        "\n",
        "4. To be decided: are there other limitations on the time intervals to filter the dataset?"
      ]
    },
    {
      "cell_type": "code",
      "metadata": {
        "id": "Pm7F4cd-tCH5",
        "colab_type": "code",
        "colab": {}
      },
      "source": [
        "#Transform time columns into 24 hour format\n",
        "\n",
        "df['Placement - Time'] = pd.to_datetime(df['Placement - Time'], format='%I:%M:%S %p')\n",
        "df['Confirmation - Time'] = pd.to_datetime(df['Confirmation - Time'], format='%I:%M:%S %p')\n",
        "df['Arrival at Pickup - Time'] = pd.to_datetime(df['Arrival at Pickup - Time'], format='%I:%M:%S %p')\n",
        "df['Pickup - Time'] = pd.to_datetime(df['Pickup - Time'], format='%I:%M:%S %p')"
      ],
      "execution_count": 0,
      "outputs": []
    },
    {
      "cell_type": "code",
      "metadata": {
        "id": "-C_EQo7a71YU",
        "colab_type": "code",
        "colab": {}
      },
      "source": [
        "#Calculate differences between all time columns\n",
        "\n",
        "df['time_Con - Pl'] = (df['Confirmation - Time'] - df['Placement - Time']).astype('timedelta64[s]').astype(np.int64)\n",
        "df['time_Arr P - Con'] = (df['Arrival at Pickup - Time'] - df['Confirmation - Time']).astype('timedelta64[s]').astype(np.int64)\n",
        "df['time_P - Arr P'] = (df['Pickup - Time'] - df['Arrival at Pickup - Time']).astype('timedelta64[s]').astype(np.int64)"
      ],
      "execution_count": 0,
      "outputs": []
    },
    {
      "cell_type": "code",
      "metadata": {
        "id": "SKprriVQtzMa",
        "colab_type": "code",
        "colab": {}
      },
      "source": [
        "#Drop rows that has negative time intervals (eg. not possible for the confirmation to happen before the order is placed)\n",
        "\n",
        "ls = [col for col in df if col.startswith('time')]\n",
        "\n",
        "for i in range(len(ls)):\n",
        "    df = df.drop(df[df[ls[i]] <= 0].index)"
      ],
      "execution_count": 0,
      "outputs": []
    },
    {
      "cell_type": "code",
      "metadata": {
        "id": "CmAKr3ectvxq",
        "colab_type": "code",
        "colab": {}
      },
      "source": [
        "#Calculate time in seconds from midnight\n",
        "\n",
        "df['pl'] = df['Placement - Time']. apply(lambda x: (x - pd.to_datetime('12:00:00 AM', format='%I:%M:%S %p')).total_seconds())\n",
        "df['con'] = df['Confirmation - Time']. apply(lambda x: (x - pd.to_datetime('12:00:00 AM', format='%I:%M:%S %p')).total_seconds())\n",
        "df['arr p'] = df['Arrival at Pickup - Time']. apply(lambda x: (x - pd.to_datetime('12:00:00 AM', format='%I:%M:%S %p')).total_seconds())\n",
        "df['p'] = df['Pickup - Time']. apply(lambda x: (x - pd.to_datetime('12:00:00 AM', format='%I:%M:%S %p')).total_seconds())\n",
        "\n",
        "#sin/cos transformation of time values\n",
        "\n",
        "df['pl_sin'] = df['pl'].apply(lambda x: np.sin(x*(2.*np.pi/86400))) #86400 sec/d\n",
        "df['pl_cos'] = df['pl'].apply(lambda x: np.cos(x*(2.*np.pi/86400)))\n",
        "\n",
        "df['con_sin'] = df['con'].apply(lambda x: np.sin(x*(2.*np.pi/86400)))\n",
        "df['con_cos'] = df['con'].apply(lambda x: np.cos(x*(2.*np.pi/86400)))\n",
        "\n",
        "df['arr p_sin'] = df['arr p'].apply(lambda x: np.sin(x*(2.*np.pi/86400)))\n",
        "df['arr p_cos'] = df['arr p'].apply(lambda x: np.cos(x*(2.*np.pi/86400)))\n",
        "\n",
        "df['p_sin'] = df['p'].apply(lambda x: np.sin(x*(2.*np.pi/86400)))\n",
        "df['p_cos'] = df['p'].apply(lambda x: np.cos(x*(2.*np.pi/86400)))"
      ],
      "execution_count": 0,
      "outputs": []
    },
    {
      "cell_type": "code",
      "metadata": {
        "id": "voT62PYVJych",
        "colab_type": "code",
        "outputId": "fee359df-17fd-4532-b1db-fd333b332385",
        "colab": {
          "base_uri": "https://localhost:8080/",
          "height": 0
        }
      },
      "source": [
        "plt.subplot(1, 4, 1)\n",
        "sns.scatterplot(x=df['pl_sin'], y=df['pl_cos'], hue=df['pl_sin'], palette='GnBu_r')\n",
        "plt.title('Placement Time')\n",
        "plt.xlabel('Time (sin seconds from midnight)')\n",
        "plt.ylabel('Time (cos seconds from midnight)')\n",
        "fig = plt.gcf()\n",
        "fig.set_size_inches( 23, 5)\n",
        "\n",
        "plt.subplot(1, 4, 2)\n",
        "sns.scatterplot(x=df['con_sin'], y=df['con_cos'], hue=df['con_sin'], palette='GnBu_r')\n",
        "fig = plt.gcf()\n",
        "fig.set_size_inches( 23, 5)\n",
        "\n",
        "plt.subplot(1, 4, 3)\n",
        "sns.scatterplot(x=df['arr p_sin'], y=df['arr p_cos'], hue=df['arr p_sin'], palette='GnBu_r')\n",
        "fig = plt.gcf()\n",
        "fig.set_size_inches( 23, 5)\n",
        "\n",
        "plt.subplot(1, 4, 4)\n",
        "sns.scatterplot(x=df['p_sin'], y=df['p_cos'], hue=df['p_sin'], palette='GnBu_r')\n",
        "fig = plt.gcf()\n",
        "fig.set_size_inches( 23, 5)"
      ],
      "execution_count": 68,
      "outputs": [
        {
          "output_type": "display_data",
          "data": {
            "image/png": "[encoded data removed]",
            "text/plain": [
              "<Figure size 1656x360 with 4 Axes>"
            ]
          },
          "metadata": {
            "tags": [],
            "needs_background": "light"
          }
        }
      ]
    },
    {
      "cell_type": "code",
      "metadata": {
        "id": "vZ78ZWQzt6eK",
        "colab_type": "code",
        "outputId": "5914e379-9b3d-439b-edcb-f42ce060a06f",
        "colab": {
          "base_uri": "https://localhost:8080/",
          "height": 0
        }
      },
      "source": [
        "#Investigate relationships between time intervals\n",
        "\n",
        "sns.pairplot(data=df,\n",
        "        vars=['pl', 'con', 'arr p', 'p'],\n",
        "        kind='scatter', palette='GnBu_r', diag_kws={'alpha':0.5})\n",
        "\n",
        "plt.show()"
      ],
      "execution_count": 69,
      "outputs": [
        {
          "output_type": "display_data",
          "data": {
            "image/png": "[encoded data removed]",
            "text/plain": [
              "<Figure size 720x720 with 20 Axes>"
            ]
          },
          "metadata": {
            "tags": [],
            "needs_background": "light"
          }
        }
      ]
    },
    {
      "cell_type": "code",
      "metadata": {
        "id": "tGsqKc2puEAL",
        "colab_type": "code",
        "outputId": "a6fce511-b6bd-44c7-c86f-b465a4103823",
        "colab": {
          "base_uri": "https://localhost:8080/",
          "height": 0
        }
      },
      "source": [
        "#Investigate relationships between 'Day of Month' columns\n",
        "\n",
        "sns.pairplot(data=df,\n",
        "        vars=['Placement - Day of Month', 'Confirmation - Day of Month', 'Arrival at Pickup - Day of Month', 'Pickup - Day of Month'],\n",
        "        kind='scatter', palette='RdBu', diag_kws={'alpha':0.5})\n",
        "\n",
        "plt.show()"
      ],
      "execution_count": 70,
      "outputs": [
        {
          "output_type": "display_data",
          "data": {
            "image/png": "[encoded data removed]",
            "text/plain": [
              "<Figure size 720x720 with 20 Axes>"
            ]
          },
          "metadata": {
            "tags": [],
            "needs_background": "light"
          }
        }
      ]
    },
    {
      "cell_type": "code",
      "metadata": {
        "id": "OH0sQfRluRF9",
        "colab_type": "code",
        "outputId": "2678f13b-abdb-4e36-8d54-c67d4a8be38f",
        "colab": {
          "base_uri": "https://localhost:8080/",
          "height": 0
        }
      },
      "source": [
        "#Investigate relationships between 'Weekday' columns\n",
        "\n",
        "sns.pairplot(data=df,\n",
        "        vars=['Placement - Weekday (Mo = 1)', 'Confirmation - Weekday (Mo = 1)', 'Arrival at Pickup - Weekday (Mo = 1)', 'Pickup - Weekday (Mo = 1)'],\n",
        "        kind='scatter', palette='GnBu_r', diag_kws={'alpha':.5})\n",
        "\n",
        "plt.show()"
      ],
      "execution_count": 71,
      "outputs": [
        {
          "output_type": "display_data",
          "data": {
            "image/png": "[encoded data removed]",
            "text/plain": [
              "<Figure size 720x720 with 20 Axes>"
            ]
          },
          "metadata": {
            "tags": [],
            "needs_background": "light"
          }
        }
      ]
    },
    {
      "cell_type": "code",
      "metadata": {
        "id": "7h1qr7wFuXvw",
        "colab_type": "code",
        "colab": {}
      },
      "source": [
        "#Drop all but one columns that show multicolinearity\n",
        "df['weekday'] = df['Pickup - Weekday (Mo = 1)']\n",
        "df['month_day'] = df['Pickup - Day of Month']\n",
        "\n",
        "ls = [col for col in df.columns if 'Weekday' in col] + [col for col in df.columns if 'Month' in col]\n",
        "\n",
        "for i in range(len(ls)):\n",
        "    df = df.drop(ls[i], axis=1)"
      ],
      "execution_count": 0,
      "outputs": []
    },
    {
      "cell_type": "code",
      "metadata": {
        "id": "B_vEFmPouw18",
        "colab_type": "code",
        "colab": {}
      },
      "source": [
        "#sin/cos transform 'Weekday'\n",
        "\n",
        "df['weekday_sin'] = df['weekday'].apply(lambda x: np.sin(x*(2.*np.pi/7)))\n",
        "df['weekday_cos'] = df['weekday'].apply(lambda x: np.cos(x*(2.*np.pi/7)))\n",
        "\n",
        "#sin/cos transform 'Day of Month'\n",
        "\n",
        "df['day_month_sin'] = df['month_day']. apply(lambda x: np.sin(x*(2.*np.pi/31)))\n",
        "df['day_month_cos'] = df['month_day']. apply(lambda x: np.cos(x*(2.*np.pi/31)))"
      ],
      "execution_count": 0,
      "outputs": []
    },
    {
      "cell_type": "markdown",
      "metadata": {
        "id": "4Cuwkh9E8WLU",
        "colab_type": "text"
      },
      "source": [
        "# Target value (Time from Pickup to Arrival)\n",
        "1. Remove outliers by speed (km/h)\n",
        "2. Boxcox transformation of dependent variable (normal distribution)"
      ]
    },
    {
      "cell_type": "code",
      "metadata": {
        "id": "S956RxKd8nfq",
        "colab_type": "code",
        "outputId": "29831378-14e2-4261-d618-7c345f375ff2",
        "colab": {
          "base_uri": "https://localhost:8080/",
          "height": 51
        }
      },
      "source": [
        "#Evaluate shortest times for target value. Longest times might be due to some confounding effect such as traffic.\n",
        "\n",
        "speed = df.loc[:, ['Time from Pickup to Arrival', 'Distance (KM)']]\n",
        "speed['speed (km/h)'] = 0 #speed['Distance (KM)'] / (speed['Time from Pickup to Destination'] / 3600)\n",
        "for i in range(len(speed)):\n",
        "    speed.iloc[i, 2] = speed.iloc[i, 1] / (speed.iloc[i, 0] / 3600)\n",
        "\n",
        "df['speed (km/h)'] = speed['speed (km/h)']\n",
        "\n",
        "#Drop rows that have speeds in excess of 110 km/h (max legal driving speed between Uganda and Kenya)\n",
        "\n",
        "print(len(df[df['speed (km/h)'] > 80]))\n",
        "df = df.drop(df[df['speed (km/h)'] > 110].index)\n",
        "df = df.drop('speed (km/h)', axis=1)\n",
        "print(len(df))"
      ],
      "execution_count": 74,
      "outputs": [
        {
          "output_type": "stream",
          "text": [
            "957\n",
            "20276\n"
          ],
          "name": "stdout"
        }
      ]
    },
    {
      "cell_type": "code",
      "metadata": {
        "id": "5a-WLMDp85Vg",
        "colab_type": "code",
        "colab": {}
      },
      "source": [
        "from scipy.stats import boxcox\n",
        "df['y_tf'] = boxcox(df['Time from Pickup to Arrival'])[0]"
      ],
      "execution_count": 0,
      "outputs": []
    },
    {
      "cell_type": "code",
      "metadata": {
        "id": "B6QMvTGz8p7z",
        "colab_type": "code",
        "outputId": "13065d5a-13ba-4888-cdeb-46c267618a49",
        "colab": {
          "base_uri": "https://localhost:8080/",
          "height": 280
        }
      },
      "source": [
        "plt.subplot(1, 2, 1)\n",
        "sns.boxplot(x=df['Time from Pickup to Arrival'], palette='GnBu_r')\n",
        "fig = plt.gcf()\n",
        "fig.set_size_inches( 14, 4)\n",
        "\n",
        "plt.subplot(1, 2, 2)\n",
        "sns.boxplot(x=df['y_tf'], palette='GnBu_r')\n",
        "fig = plt.gcf()\n",
        "fig.set_size_inches( 14, 4)\n",
        "\n",
        "plt.show()"
      ],
      "execution_count": 76,
      "outputs": [
        {
          "output_type": "display_data",
          "data": {
            "image/png": "[encoded data removed]",
            "text/plain": [
              "<Figure size 1008x288 with 2 Axes>"
            ]
          },
          "metadata": {
            "tags": [],
            "needs_background": "light"
          }
        }
      ]
    },
    {
      "cell_type": "code",
      "metadata": {
        "id": "hgdB3al5_UM2",
        "colab_type": "code",
        "colab": {}
      },
      "source": [
        "from scipy.stats import zscore"
      ],
      "execution_count": 0,
      "outputs": []
    },
    {
      "cell_type": "code",
      "metadata": {
        "id": "bc5HDbLABsUy",
        "colab_type": "code",
        "outputId": "5cdae35e-8a4f-4282-e2f4-3649798a148c",
        "colab": {
          "base_uri": "https://localhost:8080/",
          "height": 34
        }
      },
      "source": [
        "df['y_tf_Z'] = zscore(df['y_tf'])\n",
        "df = df.drop(df[(df['y_tf_Z'] > 3) | (df['y_tf_Z'] < -3)].index)\n",
        "df=df.drop('y_tf_Z', axis=1)\n",
        "print(len(df))"
      ],
      "execution_count": 78,
      "outputs": [
        {
          "output_type": "stream",
          "text": [
            "20204\n"
          ],
          "name": "stdout"
        }
      ]
    },
    {
      "cell_type": "code",
      "metadata": {
        "id": "VqzQKiOnKMop",
        "colab_type": "code",
        "outputId": "12b5a6f5-f913-4346-ba69-97ab72e0ea3d",
        "colab": {
          "base_uri": "https://localhost:8080/",
          "height": 280
        }
      },
      "source": [
        "#Boxplot comparison after removing outliers\n",
        "\n",
        "plt.subplot(1, 2, 1)\n",
        "sns.boxplot(x=df['Time from Pickup to Arrival'], palette='GnBu_r')\n",
        "fig = plt.gcf()\n",
        "fig.set_size_inches( 14, 4)\n",
        "\n",
        "plt.subplot(1, 2, 2)\n",
        "sns.boxplot(x=df['y_tf'], palette='GnBu_r')\n",
        "fig = plt.gcf()\n",
        "fig.set_size_inches( 14, 4)\n",
        "\n",
        "plt.show()"
      ],
      "execution_count": 79,
      "outputs": [
        {
          "output_type": "display_data",
          "data": {
            "image/png": "[encoded data removed]",
            "text/plain": [
              "<Figure size 1008x288 with 2 Axes>"
            ]
          },
          "metadata": {
            "tags": [],
            "needs_background": "light"
          }
        }
      ]
    },
    {
      "cell_type": "markdown",
      "metadata": {
        "id": "EMh7g7Gku4gb",
        "colab_type": "text"
      },
      "source": [
        "## Encoding latitude and longitude attributes\n",
        "1. Convert to geohash values, these can then be encoded (Geohash package)\n",
        "2. Troubleshoot accuracy parameter, need to reverse transform as well to ensure that the same coordinates are returned.\n",
        "3. Consider UTM transformation (may not be the most accurate because works best with elevation value, small error margin though)"
      ]
    },
    {
      "cell_type": "code",
      "metadata": {
        "id": "QAAqdtYVu6xE",
        "colab_type": "code",
        "colab": {}
      },
      "source": [
        "#Provides approximate area sizes: https://www.elastic.co/guide/en/elasticsearch/reference/current/search-aggregations-bucket-geohashgrid-aggregation.html"
      ],
      "execution_count": 0,
      "outputs": []
    },
    {
      "cell_type": "code",
      "metadata": {
        "id": "5Se0ZWVXvEzT",
        "colab_type": "code",
        "colab": {}
      },
      "source": [
        "# %load Geohash.py\n",
        "\"\"\"\n",
        "Copyright (C) 2008 Leonard Norrgard <leonard.norrgard@gmail.com>\n",
        "Copyright (C) 2015 Leonard Norrgard <leonard.norrgard@gmail.com>\n",
        "\n",
        "This file is part of Geohash.\n",
        "\n",
        "Geohash is free software: you can redistribute it and/or modify it\n",
        "under the terms of the GNU Affero General Public License as published\n",
        "by the Free Software Foundation, either version 3 of the License, or\n",
        "(at your option) any later version.\n",
        "\n",
        "Geohash is distributed in the hope that it will be useful, but WITHOUT\n",
        "ANY WARRANTY; without even the implied warranty of MERCHANTABILITY or\n",
        "FITNESS FOR A PARTICULAR PURPOSE.  See the GNU Affero General Public\n",
        "License for more details.\n",
        "\n",
        "You should have received a copy of the GNU Affero General Public\n",
        "License along with Geohash.  If not, see\n",
        "<http://www.gnu.org/licenses/>.\n",
        "\"\"\"\n",
        "from math import log10\n",
        "\n",
        "#  Note: the alphabet in geohash differs from the common base32\n",
        "#  alphabet described in IETF's RFC 4648\n",
        "#  (http://tools.ietf.org/html/rfc4648)\n",
        "__base32 = '0123456789bcdefghjkmnpqrstuvwxyz'\n",
        "__decodemap = { }\n",
        "for i in range(len(__base32)):\n",
        "    __decodemap[__base32[i]] = i\n",
        "del i\n",
        "\n",
        "def decode_exactly(geohash):\n",
        "    \"\"\"\n",
        "    Decode the geohash to its exact values, including the error\n",
        "    margins of the result.  Returns four float values: latitude,\n",
        "    longitude, the plus/minus error for latitude (as a positive\n",
        "    number) and the plus/minus error for longitude (as a positive\n",
        "    number).\n",
        "    \"\"\"\n",
        "    lat_interval, lon_interval = (-90.0, 90.0), (-180.0, 180.0)\n",
        "    lat_err, lon_err = 90.0, 180.0\n",
        "    is_even = True\n",
        "    for c in geohash:\n",
        "        cd = __decodemap[c]\n",
        "        for mask in [16, 8, 4, 2, 1]:\n",
        "            if is_even: # adds longitude info\n",
        "                lon_err /= 2\n",
        "                if cd & mask:\n",
        "                    lon_interval = ((lon_interval[0]+lon_interval[1])/2, lon_interval[1])\n",
        "                else:\n",
        "                    lon_interval = (lon_interval[0], (lon_interval[0]+lon_interval[1])/2)\n",
        "            else:      # adds latitude info\n",
        "                lat_err /= 2\n",
        "                if cd & mask:\n",
        "                    lat_interval = ((lat_interval[0]+lat_interval[1])/2, lat_interval[1])\n",
        "                else:\n",
        "                    lat_interval = (lat_interval[0], (lat_interval[0]+lat_interval[1])/2)\n",
        "            is_even = not is_even\n",
        "    lat = (lat_interval[0] + lat_interval[1]) / 2\n",
        "    lon = (lon_interval[0] + lon_interval[1]) / 2\n",
        "    return lat, lon, lat_err, lon_err\n",
        "\n",
        "def decode(geohash):\n",
        "    \"\"\"\n",
        "    Decode geohash, returning two strings with latitude and longitude\n",
        "    containing only relevant digits and with trailing zeroes removed.\n",
        "    \"\"\"\n",
        "    lat, lon, lat_err, lon_err = decode_exactly(geohash)\n",
        "    # Format to the number of decimals that are known\n",
        "    lats = \"%.*f\" % (max(1, int(round(-log10(lat_err)))) - 1, lat)\n",
        "    lons = \"%.*f\" % (max(1, int(round(-log10(lon_err)))) - 1, lon)\n",
        "    if '.' in lats: lats = lats.rstrip('0')\n",
        "    if '.' in lons: lons = lons.rstrip('0')\n",
        "    return lats, lons\n",
        "\n",
        "def encode(latitude, longitude, precision=12):\n",
        "    \"\"\"\n",
        "    Encode a position given in float arguments latitude, longitude to\n",
        "    a geohash which will have the character count precision.\n",
        "    \"\"\"\n",
        "    lat_interval, lon_interval = (-90.0, 90.0), (-180.0, 180.0)\n",
        "    geohash = []\n",
        "    bits = [ 16, 8, 4, 2, 1 ]\n",
        "    bit = 0\n",
        "    ch = 0\n",
        "    even = True\n",
        "    while len(geohash) < precision:\n",
        "        if even:\n",
        "            mid = (lon_interval[0] + lon_interval[1]) / 2\n",
        "            if longitude > mid:\n",
        "                ch |= bits[bit]\n",
        "                lon_interval = (mid, lon_interval[1])\n",
        "            else:\n",
        "                lon_interval = (lon_interval[0], mid)\n",
        "        else:\n",
        "            mid = (lat_interval[0] + lat_interval[1]) / 2\n",
        "            if latitude > mid:\n",
        "                ch |= bits[bit]\n",
        "                lat_interval = (mid, lat_interval[1])\n",
        "            else:\n",
        "                lat_interval = (lat_interval[0], mid)\n",
        "        even = not even\n",
        "        if bit < 4:\n",
        "            bit += 1\n",
        "        else:\n",
        "            geohash += __base32[ch]\n",
        "            bit = 0\n",
        "            ch = 0\n",
        "    return ''.join(geohash)"
      ],
      "execution_count": 0,
      "outputs": []
    },
    {
      "cell_type": "code",
      "metadata": {
        "id": "qx1ndFyHvKtc",
        "colab_type": "code",
        "colab": {}
      },
      "source": [
        "geohash = df.loc[:, ['Pickup Lat', 'Pickup Long', 'Destination Lat', 'Destination Long']]\n",
        "geohash['pickup'] = 0\n",
        "geohash['dest'] = 0\n",
        "for i in range(len(geohash)):\n",
        "    geohash.iloc[i, 4] = encode(geohash.iloc[i, 0], geohash.iloc[i, 1], precision=6)\n",
        "    geohash.iloc[i, 5] = encode(geohash.iloc[i, 2], geohash.iloc[i, 3], precision=6)\n",
        "\n",
        "# Make a dictionary of geohash labels\n",
        "\n",
        "labels = list(set(list(geohash['pickup']) + list(geohash['dest'])))\n",
        "vals = [i + 1 for i in list(range(0, len(labels)))]\n",
        "geohash_dict = dict(zip(labels, vals))\n",
        "\n",
        "#Transform geohash labels using the dictionary\n",
        "geohash['pickup_label'] = geohash['pickup'].apply(lambda i: geohash_dict[i] if i in geohash_dict.keys() else 0)\n",
        "geohash['dest_label'] = geohash['dest'].apply(lambda i: geohash_dict[i] if i in geohash_dict.keys() else 0)\n",
        "\n",
        "#Add to df\n",
        "df['pickup_geohash'] = geohash['pickup_label']\n",
        "df['dest_geohash'] = geohash['dest_label']\n",
        "#df = df.drop(['Pickup Lat', 'Pickup Long', 'Destination Lat', 'Destination Long'], axis=1)"
      ],
      "execution_count": 0,
      "outputs": []
    },
    {
      "cell_type": "markdown",
      "metadata": {
        "id": "6YlEBR08voO8",
        "colab_type": "text"
      },
      "source": [
        "## Ranking riders\n",
        "1. Rank riders by weighted rating value and efficiency"
      ]
    },
    {
      "cell_type": "code",
      "metadata": {
        "id": "T1SnOqpsvqAP",
        "colab_type": "code",
        "colab": {}
      },
      "source": [
        "#Rank riders by weighted rating value and efficiency\n",
        "\n",
        "riders['weighted_rating'] = 0\n",
        "riders['deliveries_per_day'] = 0\n",
        "total = sum(riders['No_of_Ratings'])\n",
        "\n",
        "for i in range(len(riders)):\n",
        "    riders.iloc[i, 5] = riders.iloc[i, 3] * (riders.iloc[i, 4] / total)\n",
        "    riders.iloc[i, 6] = riders.iloc[i, 1] / riders.iloc[i, 2]\n",
        "    \n",
        "riders = riders.sort_values('weighted_rating', ascending=False).reset_index()\n",
        "riders['ranking'] = riders.index"
      ],
      "execution_count": 0,
      "outputs": []
    },
    {
      "cell_type": "code",
      "metadata": {
        "id": "UDNrryqwCFAY",
        "colab_type": "code",
        "colab": {}
      },
      "source": [
        "#Create merged dataset\n",
        "\n",
        "df = pd.merge(df, riders, how='left', left_on=['Rider Id'], right_on=['Rider Id'])\n",
        "\n",
        "#df = df.drop(['Average_Rating', 'No_of_Ratings', 'Rider Id'], axis = 1)"
      ],
      "execution_count": 0,
      "outputs": []
    },
    {
      "cell_type": "code",
      "metadata": {
        "id": "so0y17uTRW9L",
        "colab_type": "code",
        "outputId": "9f0b4f2d-c8b7-49c3-bc02-10100cfef692",
        "colab": {
          "base_uri": "https://localhost:8080/",
          "height": 0
        }
      },
      "source": [
        "df.head()"
      ],
      "execution_count": 85,
      "outputs": [
        {
          "output_type": "execute_result",
          "data": {
            "text/html": [
              "<div>\n",
              "<style scoped>\n",
              "    .dataframe tbody tr th:only-of-type {\n",
              "        vertical-align: middle;\n",
              "    }\n",
              "\n",
              "    .dataframe tbody tr th {\n",
              "        vertical-align: top;\n",
              "    }\n",
              "\n",
              "    .dataframe thead th {\n",
              "        text-align: right;\n",
              "    }\n",
              "</style>\n",
              "<table border=\"1\" class=\"dataframe\">\n",
              "  <thead>\n",
              "    <tr style=\"text-align: right;\">\n",
              "      <th></th>\n",
              "      <th>Order No</th>\n",
              "      <th>User Id</th>\n",
              "      <th>Placement - Time</th>\n",
              "      <th>Confirmation - Time</th>\n",
              "      <th>Arrival at Pickup - Time</th>\n",
              "      <th>Pickup - Time</th>\n",
              "      <th>Distance (KM)</th>\n",
              "      <th>Temperature</th>\n",
              "      <th>Pickup Lat</th>\n",
              "      <th>Pickup Long</th>\n",
              "      <th>Destination Lat</th>\n",
              "      <th>Destination Long</th>\n",
              "      <th>Rider Id</th>\n",
              "      <th>Time from Pickup to Arrival</th>\n",
              "      <th>user_id</th>\n",
              "      <th>Personal or Business_Personal</th>\n",
              "      <th>Platform Type_2</th>\n",
              "      <th>Platform Type_3</th>\n",
              "      <th>Platform Type_4</th>\n",
              "      <th>time_Con - Pl</th>\n",
              "      <th>time_Arr P - Con</th>\n",
              "      <th>time_P - Arr P</th>\n",
              "      <th>pl</th>\n",
              "      <th>con</th>\n",
              "      <th>arr p</th>\n",
              "      <th>p</th>\n",
              "      <th>pl_sin</th>\n",
              "      <th>pl_cos</th>\n",
              "      <th>con_sin</th>\n",
              "      <th>con_cos</th>\n",
              "      <th>arr p_sin</th>\n",
              "      <th>arr p_cos</th>\n",
              "      <th>p_sin</th>\n",
              "      <th>p_cos</th>\n",
              "      <th>weekday</th>\n",
              "      <th>month_day</th>\n",
              "      <th>weekday_sin</th>\n",
              "      <th>weekday_cos</th>\n",
              "      <th>day_month_sin</th>\n",
              "      <th>day_month_cos</th>\n",
              "      <th>y_tf</th>\n",
              "      <th>pickup_geohash</th>\n",
              "      <th>dest_geohash</th>\n",
              "      <th>index</th>\n",
              "      <th>No_Of_Orders</th>\n",
              "      <th>Age</th>\n",
              "      <th>Average_Rating</th>\n",
              "      <th>No_of_Ratings</th>\n",
              "      <th>weighted_rating</th>\n",
              "      <th>deliveries_per_day</th>\n",
              "      <th>ranking</th>\n",
              "    </tr>\n",
              "  </thead>\n",
              "  <tbody>\n",
              "    <tr>\n",
              "      <th>0</th>\n",
              "      <td>Order_No_4211</td>\n",
              "      <td>User_Id_633</td>\n",
              "      <td>1900-01-01 09:35:46</td>\n",
              "      <td>1900-01-01 09:40:10</td>\n",
              "      <td>1900-01-01 10:04:47</td>\n",
              "      <td>1900-01-01 10:27:30</td>\n",
              "      <td>4</td>\n",
              "      <td>20.4</td>\n",
              "      <td>-1.317755</td>\n",
              "      <td>36.830370</td>\n",
              "      <td>-1.300406</td>\n",
              "      <td>36.829741</td>\n",
              "      <td>Rider_Id_432</td>\n",
              "      <td>745</td>\n",
              "      <td>633</td>\n",
              "      <td>0</td>\n",
              "      <td>0</td>\n",
              "      <td>1</td>\n",
              "      <td>0</td>\n",
              "      <td>264</td>\n",
              "      <td>1477</td>\n",
              "      <td>1363</td>\n",
              "      <td>34546.0</td>\n",
              "      <td>34810.0</td>\n",
              "      <td>36287.0</td>\n",
              "      <td>37650.0</td>\n",
              "      <td>0.588609</td>\n",
              "      <td>-0.808418</td>\n",
              "      <td>0.572981</td>\n",
              "      <td>-0.819569</td>\n",
              "      <td>0.481817</td>\n",
              "      <td>-0.876272</td>\n",
              "      <td>0.392738</td>\n",
              "      <td>-0.919650</td>\n",
              "      <td>5</td>\n",
              "      <td>9</td>\n",
              "      <td>-0.974928</td>\n",
              "      <td>-0.222521</td>\n",
              "      <td>0.968077</td>\n",
              "      <td>-0.250653</td>\n",
              "      <td>14.479474</td>\n",
              "      <td>310</td>\n",
              "      <td>110</td>\n",
              "      <td>27</td>\n",
              "      <td>1637</td>\n",
              "      <td>1309</td>\n",
              "      <td>13.8</td>\n",
              "      <td>549</td>\n",
              "      <td>0.018440</td>\n",
              "      <td>1.250573</td>\n",
              "      <td>325</td>\n",
              "    </tr>\n",
              "    <tr>\n",
              "      <th>1</th>\n",
              "      <td>Order_No_25375</td>\n",
              "      <td>User_Id_2285</td>\n",
              "      <td>1900-01-01 11:16:16</td>\n",
              "      <td>1900-01-01 11:23:21</td>\n",
              "      <td>1900-01-01 11:40:22</td>\n",
              "      <td>1900-01-01 11:44:09</td>\n",
              "      <td>16</td>\n",
              "      <td>26.4</td>\n",
              "      <td>-1.351453</td>\n",
              "      <td>36.899315</td>\n",
              "      <td>-1.295004</td>\n",
              "      <td>36.814358</td>\n",
              "      <td>Rider_Id_856</td>\n",
              "      <td>1993</td>\n",
              "      <td>2285</td>\n",
              "      <td>1</td>\n",
              "      <td>0</td>\n",
              "      <td>1</td>\n",
              "      <td>0</td>\n",
              "      <td>425</td>\n",
              "      <td>1021</td>\n",
              "      <td>227</td>\n",
              "      <td>40576.0</td>\n",
              "      <td>41001.0</td>\n",
              "      <td>42022.0</td>\n",
              "      <td>42249.0</td>\n",
              "      <td>0.189667</td>\n",
              "      <td>-0.981849</td>\n",
              "      <td>0.159235</td>\n",
              "      <td>-0.987241</td>\n",
              "      <td>0.085562</td>\n",
              "      <td>-0.996333</td>\n",
              "      <td>0.069104</td>\n",
              "      <td>-0.997609</td>\n",
              "      <td>5</td>\n",
              "      <td>12</td>\n",
              "      <td>-0.974928</td>\n",
              "      <td>-0.222521</td>\n",
              "      <td>0.651372</td>\n",
              "      <td>-0.758758</td>\n",
              "      <td>18.941379</td>\n",
              "      <td>687</td>\n",
              "      <td>686</td>\n",
              "      <td>739</td>\n",
              "      <td>396</td>\n",
              "      <td>339</td>\n",
              "      <td>13.6</td>\n",
              "      <td>69</td>\n",
              "      <td>0.002284</td>\n",
              "      <td>1.168142</td>\n",
              "      <td>612</td>\n",
              "    </tr>\n",
              "    <tr>\n",
              "      <th>2</th>\n",
              "      <td>Order_No_1899</td>\n",
              "      <td>User_Id_265</td>\n",
              "      <td>1900-01-01 12:39:25</td>\n",
              "      <td>1900-01-01 12:42:44</td>\n",
              "      <td>1900-01-01 12:49:34</td>\n",
              "      <td>1900-01-01 12:53:03</td>\n",
              "      <td>3</td>\n",
              "      <td>NaN</td>\n",
              "      <td>-1.308284</td>\n",
              "      <td>36.843419</td>\n",
              "      <td>-1.300921</td>\n",
              "      <td>36.828195</td>\n",
              "      <td>Rider_Id_155</td>\n",
              "      <td>455</td>\n",
              "      <td>265</td>\n",
              "      <td>0</td>\n",
              "      <td>0</td>\n",
              "      <td>1</td>\n",
              "      <td>0</td>\n",
              "      <td>199</td>\n",
              "      <td>410</td>\n",
              "      <td>209</td>\n",
              "      <td>45565.0</td>\n",
              "      <td>45764.0</td>\n",
              "      <td>46174.0</td>\n",
              "      <td>46383.0</td>\n",
              "      <td>-0.171141</td>\n",
              "      <td>-0.985247</td>\n",
              "      <td>-0.185381</td>\n",
              "      <td>-0.982667</td>\n",
              "      <td>-0.214593</td>\n",
              "      <td>-0.976703</td>\n",
              "      <td>-0.229413</td>\n",
              "      <td>-0.973329</td>\n",
              "      <td>2</td>\n",
              "      <td>30</td>\n",
              "      <td>0.974928</td>\n",
              "      <td>-0.222521</td>\n",
              "      <td>-0.201299</td>\n",
              "      <td>0.979530</td>\n",
              "      <td>12.570969</td>\n",
              "      <td>255</td>\n",
              "      <td>110</td>\n",
              "      <td>851</td>\n",
              "      <td>1023</td>\n",
              "      <td>242</td>\n",
              "      <td>12.5</td>\n",
              "      <td>114</td>\n",
              "      <td>0.003468</td>\n",
              "      <td>4.227273</td>\n",
              "      <td>567</td>\n",
              "    </tr>\n",
              "    <tr>\n",
              "      <th>3</th>\n",
              "      <td>Order_No_9336</td>\n",
              "      <td>User_Id_1402</td>\n",
              "      <td>1900-01-01 09:25:34</td>\n",
              "      <td>1900-01-01 09:26:05</td>\n",
              "      <td>1900-01-01 09:37:56</td>\n",
              "      <td>1900-01-01 09:43:06</td>\n",
              "      <td>9</td>\n",
              "      <td>19.2</td>\n",
              "      <td>-1.281301</td>\n",
              "      <td>36.832396</td>\n",
              "      <td>-1.257147</td>\n",
              "      <td>36.795063</td>\n",
              "      <td>Rider_Id_855</td>\n",
              "      <td>1341</td>\n",
              "      <td>1402</td>\n",
              "      <td>0</td>\n",
              "      <td>0</td>\n",
              "      <td>1</td>\n",
              "      <td>0</td>\n",
              "      <td>31</td>\n",
              "      <td>711</td>\n",
              "      <td>310</td>\n",
              "      <td>33934.0</td>\n",
              "      <td>33965.0</td>\n",
              "      <td>34676.0</td>\n",
              "      <td>34986.0</td>\n",
              "      <td>0.623993</td>\n",
              "      <td>-0.781430</td>\n",
              "      <td>0.622230</td>\n",
              "      <td>-0.782834</td>\n",
              "      <td>0.580940</td>\n",
              "      <td>-0.813947</td>\n",
              "      <td>0.562444</td>\n",
              "      <td>-0.826835</td>\n",
              "      <td>5</td>\n",
              "      <td>15</td>\n",
              "      <td>-0.974928</td>\n",
              "      <td>-0.222521</td>\n",
              "      <td>0.101168</td>\n",
              "      <td>-0.994869</td>\n",
              "      <td>17.031869</td>\n",
              "      <td>348</td>\n",
              "      <td>104</td>\n",
              "      <td>806</td>\n",
              "      <td>886</td>\n",
              "      <td>283</td>\n",
              "      <td>14.5</td>\n",
              "      <td>113</td>\n",
              "      <td>0.003988</td>\n",
              "      <td>3.130742</td>\n",
              "      <td>550</td>\n",
              "    </tr>\n",
              "    <tr>\n",
              "      <th>4</th>\n",
              "      <td>Order_No_27883</td>\n",
              "      <td>User_Id_1737</td>\n",
              "      <td>1900-01-01 09:55:18</td>\n",
              "      <td>1900-01-01 09:56:18</td>\n",
              "      <td>1900-01-01 10:03:53</td>\n",
              "      <td>1900-01-01 10:05:23</td>\n",
              "      <td>9</td>\n",
              "      <td>15.4</td>\n",
              "      <td>-1.266597</td>\n",
              "      <td>36.792118</td>\n",
              "      <td>-1.295041</td>\n",
              "      <td>36.809817</td>\n",
              "      <td>Rider_Id_770</td>\n",
              "      <td>1214</td>\n",
              "      <td>1737</td>\n",
              "      <td>1</td>\n",
              "      <td>0</td>\n",
              "      <td>0</td>\n",
              "      <td>0</td>\n",
              "      <td>60</td>\n",
              "      <td>455</td>\n",
              "      <td>90</td>\n",
              "      <td>35718.0</td>\n",
              "      <td>35778.0</td>\n",
              "      <td>36233.0</td>\n",
              "      <td>36323.0</td>\n",
              "      <td>0.517654</td>\n",
              "      <td>-0.855590</td>\n",
              "      <td>0.513916</td>\n",
              "      <td>-0.857841</td>\n",
              "      <td>0.485255</td>\n",
              "      <td>-0.874373</td>\n",
              "      <td>0.479522</td>\n",
              "      <td>-0.877530</td>\n",
              "      <td>1</td>\n",
              "      <td>13</td>\n",
              "      <td>0.781831</td>\n",
              "      <td>0.623490</td>\n",
              "      <td>0.485302</td>\n",
              "      <td>-0.874347</td>\n",
              "      <td>16.577105</td>\n",
              "      <td>22</td>\n",
              "      <td>686</td>\n",
              "      <td>159</td>\n",
              "      <td>2311</td>\n",
              "      <td>872</td>\n",
              "      <td>14.1</td>\n",
              "      <td>533</td>\n",
              "      <td>0.018291</td>\n",
              "      <td>2.650229</td>\n",
              "      <td>327</td>\n",
              "    </tr>\n",
              "  </tbody>\n",
              "</table>\n",
              "</div>"
            ],
            "text/plain": [
              "         Order No       User Id  ... deliveries_per_day ranking\n",
              "0   Order_No_4211   User_Id_633  ...           1.250573     325\n",
              "1  Order_No_25375  User_Id_2285  ...           1.168142     612\n",
              "2   Order_No_1899   User_Id_265  ...           4.227273     567\n",
              "3   Order_No_9336  User_Id_1402  ...           3.130742     550\n",
              "4  Order_No_27883  User_Id_1737  ...           2.650229     327\n",
              "\n",
              "[5 rows x 51 columns]"
            ]
          },
          "metadata": {
            "tags": []
          },
          "execution_count": 85
        }
      ]
    },
    {
      "cell_type": "code",
      "metadata": {
        "id": "iR9_P3gbCJ68",
        "colab_type": "code",
        "colab": {}
      },
      "source": [
        "df = df.set_index('Order No')"
      ],
      "execution_count": 0,
      "outputs": []
    },
    {
      "cell_type": "markdown",
      "metadata": {
        "id": "A39rw1Q8vxr4",
        "colab_type": "text"
      },
      "source": [
        "## Temperature\n",
        "1. Calculate mean temperature per hour\n",
        "2. Fill missing values with mean temperiture values"
      ]
    },
    {
      "cell_type": "code",
      "metadata": {
        "id": "PNkKPTbAvzu1",
        "colab_type": "code",
        "colab": {}
      },
      "source": [
        "#Calculate mean temperature per hour\n",
        "\n",
        "temp_adj = df.loc[:, ['Temperature', 'Placement - Time']]\n",
        "temp_adj['hour'] = temp_adj['Placement - Time'].apply(lambda x: x.hour)\n",
        "mean_temps = temp_adj.drop(temp_adj[temp_adj['Temperature'].isna()].index)\n",
        "mean_temps = mean_temps.groupby(['hour'], as_index=False).mean()\n",
        "\n",
        "#Replace nan Temperatures with mean per hour\n",
        "\n",
        "a = temp_adj['Temperature'].isna()\n",
        "\n",
        "for i in range(len(a)):\n",
        "    if a.iloc[i] == True:\n",
        "        temp_adj.iloc[i, 0] = mean_temps.loc[mean_temps['hour'] == temp_adj.iloc[i, 2], 'Temperature'].values[0]\n",
        "\n",
        "df['temp_adj'] = temp_adj['Temperature']\n",
        "df = df.drop('Temperature', axis=1)"
      ],
      "execution_count": 0,
      "outputs": []
    },
    {
      "cell_type": "code",
      "metadata": {
        "id": "OLMJCDaUCHaz",
        "colab_type": "code",
        "colab": {}
      },
      "source": [
        "#Move dependent variable to the end\n",
        "\n",
        "df['Time from Pickup to Arrival'] = df.pop('Time from Pickup to Arrival')\n",
        "df['y_tf'] = df.pop('y_tf')"
      ],
      "execution_count": 0,
      "outputs": []
    },
    {
      "cell_type": "code",
      "metadata": {
        "id": "qXbtXRCIF98L",
        "colab_type": "code",
        "colab": {}
      },
      "source": [
        "#Drop time columns\n",
        "\n",
        "ls = ['Placement - Time', 'Confirmation - Time', 'Arrival at Pickup - Time', 'Pickup - Time']\n",
        "for i in range(len(ls)):\n",
        "    df = df.drop(ls[i], axis=1)"
      ],
      "execution_count": 0,
      "outputs": []
    },
    {
      "cell_type": "code",
      "metadata": {
        "id": "gKnoUmqky6z8",
        "colab_type": "code",
        "outputId": "80b821a6-f141-4577-e258-7b8d871be600",
        "colab": {
          "base_uri": "https://localhost:8080/",
          "height": 299
        }
      },
      "source": [
        "df = df.set_index('Order No')\n",
        "df.head()"
      ],
      "execution_count": 90,
      "outputs": [
        {
          "output_type": "error",
          "ename": "KeyError",
          "evalue": "ignored",
          "traceback": [
            "\u001b[0;31m---------------------------------------------------------------------------\u001b[0m",
            "\u001b[0;31mKeyError\u001b[0m                                  Traceback (most recent call last)",
            "\u001b[0;32m<ipython-input-90-624b2c01efcb>\u001b[0m in \u001b[0;36m<module>\u001b[0;34m()\u001b[0m\n\u001b[0;32m----> 1\u001b[0;31m \u001b[0mdf\u001b[0m \u001b[0;34m=\u001b[0m \u001b[0mdf\u001b[0m\u001b[0;34m.\u001b[0m\u001b[0mset_index\u001b[0m\u001b[0;34m(\u001b[0m\u001b[0;34m'Order No'\u001b[0m\u001b[0;34m)\u001b[0m\u001b[0;34m\u001b[0m\u001b[0;34m\u001b[0m\u001b[0m\n\u001b[0m\u001b[1;32m      2\u001b[0m \u001b[0mdf\u001b[0m\u001b[0;34m.\u001b[0m\u001b[0mhead\u001b[0m\u001b[0;34m(\u001b[0m\u001b[0;34m)\u001b[0m\u001b[0;34m\u001b[0m\u001b[0;34m\u001b[0m\u001b[0m\n",
            "\u001b[0;32m/usr/local/lib/python3.6/dist-packages/pandas/core/frame.py\u001b[0m in \u001b[0;36mset_index\u001b[0;34m(self, keys, drop, append, inplace, verify_integrity)\u001b[0m\n\u001b[1;32m   4301\u001b[0m \u001b[0;34m\u001b[0m\u001b[0m\n\u001b[1;32m   4302\u001b[0m         \u001b[0;32mif\u001b[0m \u001b[0mmissing\u001b[0m\u001b[0;34m:\u001b[0m\u001b[0;34m\u001b[0m\u001b[0;34m\u001b[0m\u001b[0m\n\u001b[0;32m-> 4303\u001b[0;31m             \u001b[0;32mraise\u001b[0m \u001b[0mKeyError\u001b[0m\u001b[0;34m(\u001b[0m\u001b[0;34mf\"None of {missing} are in the columns\"\u001b[0m\u001b[0;34m)\u001b[0m\u001b[0;34m\u001b[0m\u001b[0;34m\u001b[0m\u001b[0m\n\u001b[0m\u001b[1;32m   4304\u001b[0m \u001b[0;34m\u001b[0m\u001b[0m\n\u001b[1;32m   4305\u001b[0m         \u001b[0;32mif\u001b[0m \u001b[0minplace\u001b[0m\u001b[0;34m:\u001b[0m\u001b[0;34m\u001b[0m\u001b[0;34m\u001b[0m\u001b[0m\n",
            "\u001b[0;31mKeyError\u001b[0m: \"None of ['Order No'] are in the columns\""
          ]
        }
      ]
    },
    {
      "cell_type": "code",
      "metadata": {
        "id": "2BUXudtoxsXl",
        "colab_type": "code",
        "colab": {}
      },
      "source": [
        "df.to_csv('data_merge.csv')\n",
        "#data_train.to_csv('data_train.csv')"
      ],
      "execution_count": 0,
      "outputs": []
    },
    {
      "cell_type": "code",
      "metadata": {
        "id": "OiIZggZIzJOx",
        "colab_type": "code",
        "colab": {}
      },
      "source": [
        "df_train = df.copy()"
      ],
      "execution_count": 0,
      "outputs": []
    },
    {
      "cell_type": "code",
      "metadata": {
        "id": "s4EQGs9zSXf9",
        "colab_type": "code",
        "colab": {}
      },
      "source": [
        "### TEST COLUMNS TO REMOVE FROM df_train\n",
        "df_train = df.drop(['user_id','User Id', 'Placement - Time','Confirmation - Time', 'Arrival at Pickup - Time', 'Pickup - Time', 'Pickup Lat', 'Pickup Long', 'Destination Lat', 'Destination Long', 'Rider Id', 'pl', 'con','arr p', 'p','pl_sin',\n",
        "       'pl_cos', 'con_sin', 'con_cos', 'arr p_sin', 'arr p_cos', 'p_sin', 'p_cos', 'weekday_sin', 'weekday_cos', 'day_month_sin', 'day_month_cos','index','No_Of_Orders','Age','Average_Rating', 'weighted_rating','No_of_Ratings','y_tf'], axis=1)\n",
        "df_train.head(10)\n"
      ],
      "execution_count": 0,
      "outputs": []
    },
    {
      "cell_type": "code",
      "metadata": {
        "id": "X4zMnwJcxv8e",
        "colab_type": "code",
        "colab": {}
      },
      "source": [
        "#Checking the correlation of the numerical data in df set\n",
        "\n",
        "sns.heatmap(df_train.corr())"
      ],
      "execution_count": 0,
      "outputs": []
    },
    {
      "cell_type": "markdown",
      "metadata": {
        "id": "j8T0shpJSmGe",
        "colab_type": "text"
      },
      "source": [
        "# Modeling "
      ]
    },
    {
      "cell_type": "markdown",
      "metadata": {
        "id": "IDEzMcHbNSjh",
        "colab_type": "text"
      },
      "source": [
        "## Split data set into train and validation\n",
        "Split the training set into training and validation sets (for simplicity, this way we don't need to submit on Zindi every test run)"
      ]
    },
    {
      "cell_type": "code",
      "metadata": {
        "id": "gIawCAxYNfO1",
        "colab_type": "code",
        "colab": {}
      },
      "source": [
        "#Create the matrix of features.\n",
        "X = df_train.iloc[:, :-1].values\n",
        "y = df_train.iloc[:, -1].values"
      ],
      "execution_count": 0,
      "outputs": []
    },
    {
      "cell_type": "code",
      "metadata": {
        "id": "yhCjqY-dNmVN",
        "colab_type": "code",
        "colab": {}
      },
      "source": [
        "from sklearn.model_selection import train_test_split\n",
        "X_train, X_test, y_train, y_test = train_test_split(X, y, test_size = 0.2, random_state = 1)"
      ],
      "execution_count": 0,
      "outputs": []
    },
    {
      "cell_type": "markdown",
      "metadata": {
        "id": "fMEpMygC3hRN",
        "colab_type": "text"
      },
      "source": [
        "## Multiple Linear"
      ]
    },
    {
      "cell_type": "code",
      "metadata": {
        "id": "LAsS9JQ63LI5",
        "colab_type": "code",
        "colab": {}
      },
      "source": [
        "#Training the Multiple Linear Regression model on the Training set\n",
        "\n",
        "from sklearn.linear_model import LinearRegression\n",
        "regressor = LinearRegression()\n",
        "regressor.fit(X_train, y_train)"
      ],
      "execution_count": 0,
      "outputs": []
    },
    {
      "cell_type": "code",
      "metadata": {
        "id": "Lu0t6wQm3yq3",
        "colab_type": "code",
        "colab": {}
      },
      "source": [
        "#Predicting the test set results\n",
        "\n",
        "y_pred = regressor.predict(X_test)\n",
        "np.set_printoptions(precision=2)\n",
        "print(np.concatenate((y_pred.reshape(len(y_pred),1), y_test.reshape(len(y_test),1)),1))"
      ],
      "execution_count": 0,
      "outputs": []
    },
    {
      "cell_type": "code",
      "metadata": {
        "id": "7WlSbQ9P31RG",
        "colab_type": "code",
        "colab": {}
      },
      "source": [
        "#Evaluating the model performance\n",
        "\n",
        "from sklearn.metrics import r2_score\n",
        "r2_score(y_test, y_pred)"
      ],
      "execution_count": 0,
      "outputs": []
    },
    {
      "cell_type": "code",
      "metadata": {
        "id": "4FYKzktW34eQ",
        "colab_type": "code",
        "colab": {}
      },
      "source": [
        "#Evaluating the model performance\n",
        "\n",
        "from sklearn.metrics import mean_squared_error\n",
        "print(mean_squared_error(y_test, y_pred))\n",
        "print(np.sqrt(mean_squared_error(y_test, y_pred)))"
      ],
      "execution_count": 0,
      "outputs": []
    },
    {
      "cell_type": "markdown",
      "metadata": {
        "id": "p2ICfa1737XA",
        "colab_type": "text"
      },
      "source": [
        "## Polynomial"
      ]
    },
    {
      "cell_type": "code",
      "metadata": {
        "id": "1RQo3m4f4ELa",
        "colab_type": "code",
        "colab": {}
      },
      "source": [
        "#Training the Polynomial Linear Regression model on the Training set\n",
        "\n",
        "from sklearn.preprocessing import PolynomialFeatures\n",
        "from sklearn.linear_model import LinearRegression\n",
        "poly_reg = PolynomialFeatures(degree = 2)\n",
        "X_poly = poly_reg.fit_transform(X_train)\n",
        "regressor = LinearRegression()\n",
        "regressor.fit(X_poly, y_train)"
      ],
      "execution_count": 0,
      "outputs": []
    },
    {
      "cell_type": "code",
      "metadata": {
        "id": "nOxgR3U34E1D",
        "colab_type": "code",
        "colab": {}
      },
      "source": [
        "#Predicting the test set results\n",
        "\n",
        "y_pred = regressor.predict(poly_reg.transform(X_test))\n",
        "np.set_printoptions(precision=2)\n",
        "print(np.concatenate((y_pred.reshape(len(y_pred),1), y_test.reshape(len(y_test),1)),1))"
      ],
      "execution_count": 0,
      "outputs": []
    },
    {
      "cell_type": "code",
      "metadata": {
        "id": "7JbPwOeM4HnU",
        "colab_type": "code",
        "colab": {}
      },
      "source": [
        "#Evaluating the model performance\n",
        "\n",
        "r2_score(y_test, y_pred)"
      ],
      "execution_count": 0,
      "outputs": []
    },
    {
      "cell_type": "code",
      "metadata": {
        "id": "Qgx6c6N_4Lw2",
        "colab_type": "code",
        "colab": {}
      },
      "source": [
        "#Evaluating the model performance\n",
        "\n",
        "from sklearn.metrics import mean_squared_error\n",
        "print(mean_squared_error(y_test, y_pred))\n",
        "print(np.sqrt(mean_squared_error(y_test, y_pred)))"
      ],
      "execution_count": 0,
      "outputs": []
    },
    {
      "cell_type": "code",
      "metadata": {
        "id": "c88OccnvVcqR",
        "colab_type": "code",
        "colab": {}
      },
      "source": [
        ""
      ],
      "execution_count": 0,
      "outputs": []
    },
    {
      "cell_type": "markdown",
      "metadata": {
        "id": "392UiDRt4O1y",
        "colab_type": "text"
      },
      "source": [
        "## SVR"
      ]
    },
    {
      "cell_type": "code",
      "metadata": {
        "id": "-tgVGhrX4SZo",
        "colab_type": "code",
        "colab": {}
      },
      "source": [
        "y_train_2 = np.reshape(y_train,(len(y_train), 1))"
      ],
      "execution_count": 0,
      "outputs": []
    },
    {
      "cell_type": "code",
      "metadata": {
        "id": "9eMDMggg4U9p",
        "colab_type": "code",
        "colab": {}
      },
      "source": [
        "#Feature scaling\n",
        "\n",
        "from sklearn.preprocessing import StandardScaler\n",
        "sc_X = StandardScaler()\n",
        "sc_y = StandardScaler()\n",
        "X_train_2 = sc_X.fit_transform(X_train)\n",
        "y_train_2 = sc_y.fit_transform(y_train_2)"
      ],
      "execution_count": 0,
      "outputs": []
    },
    {
      "cell_type": "code",
      "metadata": {
        "id": "30rFMzXr4XZD",
        "colab_type": "code",
        "colab": {}
      },
      "source": [
        "#Training the SVR model on the Training set\n",
        "\n",
        "from sklearn.svm import SVR\n",
        "regressor = SVR(kernel = 'rbf')\n",
        "regressor.fit(X_train_2, y_train_2)"
      ],
      "execution_count": 0,
      "outputs": []
    },
    {
      "cell_type": "code",
      "metadata": {
        "id": "6jbGpCxb4ZnM",
        "colab_type": "code",
        "colab": {}
      },
      "source": [
        "#Predicting the test set results\n",
        "\n",
        "y_pred = sc_y.inverse_transform(regressor.predict(sc_X.transform(X_test)))\n",
        "np.set_printoptions(precision=2)\n",
        "print(np.concatenate((y_pred.reshape(len(y_pred),1), y_test.reshape(len(y_test),1)),1))"
      ],
      "execution_count": 0,
      "outputs": []
    },
    {
      "cell_type": "code",
      "metadata": {
        "id": "DNsdbFLA4cdf",
        "colab_type": "code",
        "colab": {}
      },
      "source": [
        "#Evaluating the model performance\n",
        "\n",
        "r2_score(y_test, y_pred)"
      ],
      "execution_count": 0,
      "outputs": []
    },
    {
      "cell_type": "code",
      "metadata": {
        "id": "uJfPgRuM4e_N",
        "colab_type": "code",
        "colab": {}
      },
      "source": [
        "#Evaluating the model performance\n",
        "\n",
        "from sklearn.metrics import mean_squared_error\n",
        "print(mean_squared_error(y_test, y_pred))\n",
        "print(np.sqrt(mean_squared_error(y_test, y_pred)))"
      ],
      "execution_count": 0,
      "outputs": []
    },
    {
      "cell_type": "markdown",
      "metadata": {
        "id": "W8CaN5Eq4hvo",
        "colab_type": "text"
      },
      "source": [
        "## Decision Tree Regression"
      ]
    },
    {
      "cell_type": "code",
      "metadata": {
        "id": "04qSfChP4md-",
        "colab_type": "code",
        "colab": {}
      },
      "source": [
        "#Training the Decision Tree Regression model on the Training set\n",
        "\n",
        "from sklearn.tree import DecisionTreeRegressor\n",
        "regressor = DecisionTreeRegressor(random_state = 0)\n",
        "regressor.fit(X_train, y_train)"
      ],
      "execution_count": 0,
      "outputs": []
    },
    {
      "cell_type": "code",
      "metadata": {
        "id": "DNhiHxIT4o7q",
        "colab_type": "code",
        "colab": {}
      },
      "source": [
        "#Predicting the test set results\n",
        "\n",
        "y_pred = regressor.predict(X_test)\n",
        "np.set_printoptions(precision=2)\n",
        "print(np.concatenate((y_pred.reshape(len(y_pred),1), y_test.reshape(len(y_test),1)),1))"
      ],
      "execution_count": 0,
      "outputs": []
    },
    {
      "cell_type": "code",
      "metadata": {
        "id": "1Z0k7aBd4rBa",
        "colab_type": "code",
        "colab": {}
      },
      "source": [
        "#Evaluating the model performance\n",
        "\n",
        "r2_score(y_test, y_pred)"
      ],
      "execution_count": 0,
      "outputs": []
    },
    {
      "cell_type": "code",
      "metadata": {
        "id": "4xN52RIo4tXp",
        "colab_type": "code",
        "colab": {}
      },
      "source": [
        "#Evaluating the model performance\n",
        "\n",
        "from sklearn.metrics import mean_squared_error\n",
        "print(mean_squared_error(y_test, y_pred))\n",
        "print(np.sqrt(mean_squared_error(y_test, y_pred)))"
      ],
      "execution_count": 0,
      "outputs": []
    },
    {
      "cell_type": "markdown",
      "metadata": {
        "id": "bqReuBA24wP6",
        "colab_type": "text"
      },
      "source": [
        "## Random Forest Regression"
      ]
    },
    {
      "cell_type": "code",
      "metadata": {
        "id": "Ru7rxEYu41A8",
        "colab_type": "code",
        "colab": {}
      },
      "source": [
        "#Training the Random Forest Regression model on the Training set\n",
        "\n",
        "from sklearn.ensemble import RandomForestRegressor\n",
        "regressor = RandomForestRegressor(n_estimators = 10, random_state = 0)\n",
        "regressor.fit(X_train, y_train)"
      ],
      "execution_count": 0,
      "outputs": []
    },
    {
      "cell_type": "code",
      "metadata": {
        "id": "nzH8aLiN428d",
        "colab_type": "code",
        "colab": {}
      },
      "source": [
        "#Predicting the test set results\n",
        "\n",
        "y_pred = regressor.predict(X_test)\n",
        "np.set_printoptions(precision=2)\n",
        "print(np.concatenate((y_pred.reshape(len(y_pred),1), y_test.reshape(len(y_test),1)),1))"
      ],
      "execution_count": 0,
      "outputs": []
    },
    {
      "cell_type": "code",
      "metadata": {
        "id": "S11cqqGy45Aw",
        "colab_type": "code",
        "colab": {}
      },
      "source": [
        "#Evaluating the model performance\n",
        "\n",
        "r2_score(y_test, y_pred)"
      ],
      "execution_count": 0,
      "outputs": []
    },
    {
      "cell_type": "code",
      "metadata": {
        "id": "WoT6AeH947fY",
        "colab_type": "code",
        "colab": {}
      },
      "source": [
        "#Evaluating the model performance\n",
        "\n",
        "from sklearn.metrics import mean_squared_error\n",
        "print(mean_squared_error(y_test, y_pred))\n",
        "print(np.sqrt(mean_squared_error(y_test, y_pred)))"
      ],
      "execution_count": 0,
      "outputs": []
    },
    {
      "cell_type": "markdown",
      "metadata": {
        "id": "G-HDKbzIHD2w",
        "colab_type": "text"
      },
      "source": [
        "## Feature scalling\n"
      ]
    },
    {
      "cell_type": "code",
      "metadata": {
        "id": "ksXvMP0ab9l_",
        "colab_type": "code",
        "colab": {}
      },
      "source": [
        "#Outliers Overview for numeric features\n",
        "plt.figure(figsize=(20, 8))\n",
        "sns.boxplot(x=\"variable\", y=\"value\", data=pd.melt(df_train))\n",
        "plt.show()"
      ],
      "execution_count": 0,
      "outputs": []
    },
    {
      "cell_type": "code",
      "metadata": {
        "id": "KL-FISqjTWt2",
        "colab_type": "code",
        "colab": {}
      },
      "source": [
        "#Freature scaling all variables except the hot encoded attribute (Bussiness)\n",
        "from sklearn.preprocessing import StandardScaler\n",
        "sc = StandardScaler()\n",
        "X_train[:, 1:] = sc.fit_transform(X_train[:, 1:])\n",
        "X_test[:, 1:] = sc.transform(X_test[:, 1:])"
      ],
      "execution_count": 0,
      "outputs": []
    },
    {
      "cell_type": "code",
      "metadata": {
        "id": "AjX9IJugbEXq",
        "colab_type": "code",
        "colab": {}
      },
      "source": [
        "from sklearn.preprocessing import StandardScaler\n",
        "sc = StandardScaler()\n",
        "df_train_sc = df_train.copy()\n",
        "df_train_sc = sc.fit_transform(df_train_sc['Distance (KM)'])\n",
        "df_train_sc = sc.fit_transform(df_train_sc['pickup_geohash'])\n",
        "df_train_sc = sc.fit_transform(df_train_sc['dest_geohash'])\n",
        "df_train_sc = sc.fit_transform(df_train_sc['temp_adj'])\n",
        "df_train_sc = sc.fit_transform(df_train_sc['Time from Pickup to Arrival'])\n",
        "df_train_sc = sc.fit_transform(df_train_sc['ranking'])\n",
        "df_train_sc = sc.fit_transform(df_train_sc['deliveries_per_day'])"
      ],
      "execution_count": 0,
      "outputs": []
    },
    {
      "cell_type": "markdown",
      "metadata": {
        "id": "i0Obu4FZ9EN1",
        "colab_type": "text"
      },
      "source": [
        "## Training using SVR model\n",
        "Making use of non-linear gaussian radial basis function (RBF) kernel"
      ]
    },
    {
      "cell_type": "code",
      "metadata": {
        "id": "MoLJ7uorbotL",
        "colab_type": "code",
        "colab": {}
      },
      "source": [
        "from sklearn.svm import SVR\n",
        "regressor = SVR(kernel = 'rbf')\n",
        "regressor.fit(X_train, y_train)"
      ],
      "execution_count": 0,
      "outputs": []
    },
    {
      "cell_type": "markdown",
      "metadata": {
        "id": "yUm-KF2R-bxk",
        "colab_type": "text"
      },
      "source": [
        "### Predicting the Test set results"
      ]
    },
    {
      "cell_type": "code",
      "metadata": {
        "id": "orCzNF6y-eus",
        "colab_type": "code",
        "colab": {}
      },
      "source": [
        "y_pred = sc.inverse_transform(regressor.predict(sc.transform(X_test)))\n",
        "y_pred"
      ],
      "execution_count": 0,
      "outputs": []
    },
    {
      "cell_type": "code",
      "metadata": {
        "id": "NHz3LKYrFP3A",
        "colab_type": "code",
        "colab": {}
      },
      "source": [
        ""
      ],
      "execution_count": 0,
      "outputs": []
    }
  ]
}